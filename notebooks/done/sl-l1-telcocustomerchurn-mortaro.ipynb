{
 "cells": [
  {
   "cell_type": "markdown",
   "id": "f11d448f",
   "metadata": {
    "papermill": {
     "duration": 0.03579,
     "end_time": "2022-05-14T23:04:26.524138",
     "exception": false,
     "start_time": "2022-05-14T23:04:26.488348",
     "status": "completed"
    },
    "tags": []
   },
   "source": [
    "## **Statistical Learning – Data science - 2021/22 – Exercise 1 - 15/03/2022**\n",
    "# **Exercise 1: Telco Customer Churn first data analysis using Python**\n",
    "\n",
    "## **AIM**:\n",
    "> The aim of this analysis is to predict behavior to retain customers."
   ]
  },
  {
   "cell_type": "code",
   "execution_count": 1,
   "id": "5338a73b",
   "metadata": {
    "execution": {
     "iopub.execute_input": "2022-05-14T23:04:26.592101Z",
     "iopub.status.busy": "2022-05-14T23:04:26.591438Z",
     "iopub.status.idle": "2022-05-14T23:04:27.802424Z",
     "shell.execute_reply": "2022-05-14T23:04:27.801515Z"
    },
    "papermill": {
     "duration": 1.248247,
     "end_time": "2022-05-14T23:04:27.804674",
     "exception": false,
     "start_time": "2022-05-14T23:04:26.556427",
     "status": "completed"
    },
    "tags": []
   },
   "outputs": [
    {
     "name": "stdout",
     "output_type": "stream",
     "text": [
      "/kaggle/input/telco-customer-churn/WA_Fn-UseC_-Telco-Customer-Churn.csv\n"
     ]
    }
   ],
   "source": [
    "# This Python 3 environment comes with many helpful analytics libraries installed\n",
    "# It is defined by the kaggle/python Docker image: https://github.com/kaggle/docker-python\n",
    "\n",
    "# data analysis and wrangling\n",
    "import numpy as np # linear algebra\n",
    "import pandas as pd # data processing, CSV file I/O (e.g. pd.read_csv)\n",
    "import random as rnd\n",
    "\n",
    "# visualization\n",
    "import seaborn as sns\n",
    "import matplotlib.pyplot as plt\n",
    "# %matplotlib inline\n",
    "\n",
    "# machine learning\n",
    "from sklearn.linear_model import LogisticRegression\n",
    "# from sklearn.metrics import r2_score\n",
    "# from sklearn.metrics import mean_squared_error\n",
    "\n",
    "# Input data files are available in the read-only \"../input/\" directory\n",
    "# For example, running this (by clicking run or pressing Shift+Enter) will list all files under the input directory\n",
    "\n",
    "import os\n",
    "for dirname, _, filenames in os.walk('/kaggle/input'):\n",
    "    for filename in filenames:\n",
    "        print(os.path.join(dirname, filename))"
   ]
  },
  {
   "cell_type": "code",
   "execution_count": 2,
   "id": "dd729b7c",
   "metadata": {
    "execution": {
     "iopub.execute_input": "2022-05-14T23:04:27.873789Z",
     "iopub.status.busy": "2022-05-14T23:04:27.873253Z",
     "iopub.status.idle": "2022-05-14T23:04:27.878470Z",
     "shell.execute_reply": "2022-05-14T23:04:27.877948Z"
    },
    "papermill": {
     "duration": 0.040698,
     "end_time": "2022-05-14T23:04:27.880209",
     "exception": false,
     "start_time": "2022-05-14T23:04:27.839511",
     "status": "completed"
    },
    "tags": []
   },
   "outputs": [],
   "source": [
    "# Automatically Wrap Graph Labels in Matplotlib and Seaborn\n",
    "# source: https://medium.com/dunder-data/automatically-wrap-graph-labels-in-matplotlib-and-seaborn-a48740bc9ce\n",
    "import textwrap\n",
    "def wrap_labels(ax, width, break_long_words=False):\n",
    "    labels = []\n",
    "    for label in ax.get_xticklabels():\n",
    "        text = label.get_text()\n",
    "        labels.append(textwrap.fill(text, width=width,\n",
    "                      break_long_words=break_long_words))\n",
    "    ax.set_xticklabels(labels, rotation=0)"
   ]
  },
  {
   "cell_type": "markdown",
   "id": "51eedfed",
   "metadata": {
    "papermill": {
     "duration": 0.032246,
     "end_time": "2022-05-14T23:04:27.944974",
     "exception": false,
     "start_time": "2022-05-14T23:04:27.912728",
     "status": "completed"
    },
    "tags": []
   },
   "source": [
    "## **1. Open the Telco Customer Churn dataset page in Kaggle.**\n",
    "> <h2>✅</h2>"
   ]
  },
  {
   "cell_type": "markdown",
   "id": "1a36b214",
   "metadata": {
    "papermill": {
     "duration": 0.032302,
     "end_time": "2022-05-14T23:04:28.009814",
     "exception": false,
     "start_time": "2022-05-14T23:04:27.977512",
     "status": "completed"
    },
    "tags": []
   },
   "source": [
    "## **2. Check the main properties of this dataset in the “Data” tab.**\n",
    "* How many samples (rows) does it have?\n",
    "> The number of samples (rows) is:  7043\n",
    "* How many variables (columns)?\n",
    "> The number of variables (columns) is:  21\n",
    "* What does each row/column represent?\n",
    "Each row represents a customer, each column contains customer’s attributes.\n",
    "The data set includes information about:\n",
    "    * **Customers who left within the last month:**\\\n",
    "    the column is called \"Churn\"\n",
    "    * **Services that each customer has signed up for:**\\\n",
    "    phone, multiple lines, internet, online security, online backup,device protection, tech support, and streaming TV and movies\n",
    "    * **Customer account information:**\\\n",
    "    how long they’ve been a customer, contract, payment method,paperless billing, monthly charges, and total charges\n",
    "    * **Demographic info about customers:**\\\n",
    "    gender, age range, and if they have partners and dependents\n",
    "* Which is the “target” column? What does it represent?\n",
    "> The target column is the \"Churn\"-column, because we want to predict this kind of behaviour."
   ]
  },
  {
   "cell_type": "markdown",
   "id": "ca8f9c72",
   "metadata": {
    "papermill": {
     "duration": 0.032764,
     "end_time": "2022-05-14T23:04:28.074789",
     "exception": false,
     "start_time": "2022-05-14T23:04:28.042025",
     "status": "completed"
    },
    "tags": []
   },
   "source": [
    "## **3. Download the dataset into your computer.**\n",
    "- Which is the extension of the downloaded file?\n",
    "> **.zip**\n",
    "\n",
    "## **4. Uncompress the file**\n",
    "- Which is the extension of the uncompressed file?\n",
    "> **.csv**\n",
    "\n",
    "## **5. Open the uncompressed file by both a text editor and a spreadsheet software**\n",
    "- Which symbol is used to separate columns?\n",
    "> The comma!\n",
    "- Which symbol is used to separate rows?\n",
    "> New line '\\n'!\n",
    "- Which values can you find for variable SeniorCitizen? And for variable Partner?\n",
    "> For `SeniorCitizen` the possible value is a boolean variable, where 1 means that the person is a senior citizen and 0 means no.\\\n",
    "> For `Partner` the possibile value is string variable, with `Yes' or 'No'."
   ]
  },
  {
   "cell_type": "markdown",
   "id": "896a24e6",
   "metadata": {
    "papermill": {
     "duration": 0.032307,
     "end_time": "2022-05-14T23:04:28.141339",
     "exception": false,
     "start_time": "2022-05-14T23:04:28.109032",
     "status": "completed"
    },
    "tags": []
   },
   "source": [
    "## **6. Generate a new notebook for analyzing this dataset**\n",
    "* Hint: click on “New Kernel”, then choose the Notebook kernel type, on the right\n",
    "* Assign the following title to the notebook: SL_L1_TelcoCustomerChurn_YourSurname\n",
    "* Then click on the “Commit” button on top-right to make the notebook ready to be started\n",
    "> <h2>✅</h2>\n",
    "\n",
    "## **7. Open the notebook documentation page to get help if needed**\n",
    "* Hint: click the “Docs” link on the right-bottom of your notebook page\n",
    "> <h2>✅</h2>"
   ]
  },
  {
   "cell_type": "markdown",
   "id": "46395beb",
   "metadata": {
    "papermill": {
     "duration": 0.031875,
     "end_time": "2022-05-14T23:04:28.205414",
     "exception": false,
     "start_time": "2022-05-14T23:04:28.173539",
     "status": "completed"
    },
    "tags": []
   },
   "source": [
    "## **8. Select the first cell (we will call it “Library import cell” in the following), run it**\n",
    "* What is the output of this action?\n",
    "> It loads some python packages\n",
    "* What does the code “import numpy as np” do? Can you provide a reference website for this library?\n",
    "> Running `import numpy as np` I load numpy package, which is useful for linear algebra. You can find a reference [here](https://numpy.org/). \n",
    "* What does the code “import pandas as pd” do? Can you provide a reference website for this library?\n",
    "> Running `import pandas as pd` I load pandas package,m which is useful for data processing, and to handle CSV file I/O (e.g. pd.read_csv). You can find a reference [here](https://pandas.pydata.org/).\n",
    "* What does the code “import os” do? Can you provide a reference website for this library?\n",
    "> Running `import os` I load os package, which is useful for operating system functionality. There is a reference [here](https://docs.python.org/3/library/os.html).\n",
    "* How many data files are available? Please provide their names.\n",
    "> With os module I can list all the files available, and in our case there's only the file named \"/kaggle/input/telco-customer-churn/WA_Fn-UseC_-Telco-Customer-Churn.csv\".\n",
    "\n",
    "## **9. Add to the first cell new lines to load the following libraries: seaborn, matplotlib.pyplot, sklearn.linear_model (only LogisticRegression)**\n",
    "* Hint: find similar code in the Titanic notebook if needed\n",
    "> <h2>✅</h2>\n",
    "\n",
    "## **10. Select the first cell and add a new cell on top of it**\n",
    "* Hint: use the button on top-right of the cell\n",
    "> <h2>✅</h2>\n",
    "\n",
    "## **11. Select the new cell and transform it in a “Markdown” cell, then copy all the text in this pdf file and paste it in the new Markdown cell**\n",
    "> <h2>✅</h2>\n",
    "\n",
    "## **12. Please write your answers to the questions above in the new Markdown cell. From now on you can use the same cell to write your answers as well**\n",
    "> <h2>✅</h2>\n",
    "\n",
    "## **13. Select the “Library input cell” and add a new cell below it**\n",
    "> <h2>✅</h2>\n",
    "\n",
    "## **14. Use the new cell to load the Telco Customer Churn dataset into a Pandas DataFrame variable called data**\n",
    "* Hint: find similar code in the Titanic notebook if needed\n",
    "* Remind to run the cell after writing the code-box\n",
    "> <h2>✅</h2>\n",
    "\n",
    "## **15. Add the following `comment` before data loading line: “Data acquisition”**\n",
    "> <h2>✅</h2>\n",
    "\n",
    "## **16. Add also a `Markdown cell` before the data loading cell and write in bold the text “Data acquisition”**\n",
    "* Markdown cells should be used to give a structure to the report, hence they should be added before each new section\n",
    "> <h2>✅</h2>"
   ]
  },
  {
   "cell_type": "markdown",
   "id": "9334e10b",
   "metadata": {
    "papermill": {
     "duration": 0.031912,
     "end_time": "2022-05-14T23:04:28.269526",
     "exception": false,
     "start_time": "2022-05-14T23:04:28.237614",
     "status": "completed"
    },
    "tags": []
   },
   "source": [
    " # **Data acquisition**"
   ]
  },
  {
   "cell_type": "code",
   "execution_count": 3,
   "id": "65ed12b6",
   "metadata": {
    "execution": {
     "iopub.execute_input": "2022-05-14T23:04:28.335775Z",
     "iopub.status.busy": "2022-05-14T23:04:28.335268Z",
     "iopub.status.idle": "2022-05-14T23:04:28.386165Z",
     "shell.execute_reply": "2022-05-14T23:04:28.385396Z"
    },
    "papermill": {
     "duration": 0.086413,
     "end_time": "2022-05-14T23:04:28.388338",
     "exception": false,
     "start_time": "2022-05-14T23:04:28.301925",
     "status": "completed"
    },
    "tags": []
   },
   "outputs": [],
   "source": [
    "## Data acquisition\n",
    "data = pd.read_csv('../input/telco-customer-churn/WA_Fn-UseC_-Telco-Customer-Churn.csv')"
   ]
  },
  {
   "cell_type": "markdown",
   "id": "1427dbc2",
   "metadata": {
    "papermill": {
     "duration": 0.03241,
     "end_time": "2022-05-14T23:04:28.453711",
     "exception": false,
     "start_time": "2022-05-14T23:04:28.421301",
     "status": "completed"
    },
    "tags": []
   },
   "source": [
    "## **17. In a new cell show the number of rows, the number of columns, and the total number of cells in the dataset**\n",
    "* Hint: display the related parameters of the `Pandas DataFrame`\n",
    "* Hint: use the print function to print the results\n",
    "* You should print, in particular, the following strings:\n",
    "    * “The number of customers is XXXX”\n",
    "    * “The number of variables is YYYY”\n",
    "    * “The total number of cells is ZZZZ”\n",
    "* Other hints:\n",
    "    * How can you select a single element from the shape tuple?\n",
    "    * How can you convert a number to string?\n",
    "    * How can you concatenate two strings?\n",
    "    * How can you print the final string?"
   ]
  },
  {
   "cell_type": "markdown",
   "id": "491e7900",
   "metadata": {
    "papermill": {
     "duration": 0.032376,
     "end_time": "2022-05-14T23:04:28.518629",
     "exception": false,
     "start_time": "2022-05-14T23:04:28.486253",
     "status": "completed"
    },
    "tags": []
   },
   "source": [
    "# **Data Analysis**"
   ]
  },
  {
   "cell_type": "code",
   "execution_count": 4,
   "id": "a98d3db7",
   "metadata": {
    "execution": {
     "iopub.execute_input": "2022-05-14T23:04:28.586173Z",
     "iopub.status.busy": "2022-05-14T23:04:28.585556Z",
     "iopub.status.idle": "2022-05-14T23:04:28.592409Z",
     "shell.execute_reply": "2022-05-14T23:04:28.591613Z"
    },
    "papermill": {
     "duration": 0.042764,
     "end_time": "2022-05-14T23:04:28.594070",
     "exception": false,
     "start_time": "2022-05-14T23:04:28.551306",
     "status": "completed"
    },
    "tags": []
   },
   "outputs": [
    {
     "name": "stdout",
     "output_type": "stream",
     "text": [
      "The number of costumers (rows) is 7043.\n",
      "The number of variables (columns) is 21.\n",
      "The number of elements is 147903.\n",
      "\n",
      "To select a single element from the shape tuple it's enough to assing the return of `data.shape` to two variables.\n",
      "So I get a single element by calling one of them.\n",
      "\n",
      "I can convert a number to string by call the method `str`.\n",
      "I can concatenate two strings by using `+` between the two strings and I print the final string by calling `print` with the argument `\"string1\"+\"string2\"\n"
     ]
    }
   ],
   "source": [
    "#Dataset dimension\n",
    "\n",
    "[num_rows,num_columns]=data.shape;\n",
    "num_elements=data.size;\n",
    "print(f\"The number of costumers (rows) is {num_rows}.\\n\\\n",
    "The number of variables (columns) is {num_columns}.\\n\\\n",
    "The number of elements is {num_elements}.\\n\")\n",
    "print(\"To select a single element from the shape tuple it's enough to assing the return of `data.shape` to two variables.\\n\\\n",
    "So I get a single element by calling one of them.\\n\\n\\\n",
    "I can convert a number to string by call the method `str`.\\n\\\n",
    "I can concatenate two strings by using `+` between the two strings and I print the final string by calling `print` with the argument `\\\"string1\\\"+\\\"string2\\\"\")"
   ]
  },
  {
   "cell_type": "markdown",
   "id": "1f916985",
   "metadata": {
    "papermill": {
     "duration": 0.032627,
     "end_time": "2022-05-14T23:04:28.659257",
     "exception": false,
     "start_time": "2022-05-14T23:04:28.626630",
     "status": "completed"
    },
    "tags": []
   },
   "source": [
    "## **18. Add the following `comment` at the beginning of the cell: “Dataset dimension”**\n",
    "> <h2>✅</h2>\n",
    "\n",
    "## **19. Add a new `markdown cell` before this cell and write in it the title “Data Analysis”**\n",
    "> <h2>✅</h2>\n",
    "\n",
    "## **20. In a new cell show the names of the variables in the dataset**\n",
    "* Hint: print the column’s names of variable data\n",
    "> <h2>✅</h2>"
   ]
  },
  {
   "cell_type": "code",
   "execution_count": 5,
   "id": "472343a7",
   "metadata": {
    "execution": {
     "iopub.execute_input": "2022-05-14T23:04:28.727192Z",
     "iopub.status.busy": "2022-05-14T23:04:28.726693Z",
     "iopub.status.idle": "2022-05-14T23:04:28.733581Z",
     "shell.execute_reply": "2022-05-14T23:04:28.732759Z"
    },
    "papermill": {
     "duration": 0.043134,
     "end_time": "2022-05-14T23:04:28.735123",
     "exception": false,
     "start_time": "2022-05-14T23:04:28.691989",
     "status": "completed"
    },
    "tags": []
   },
   "outputs": [
    {
     "name": "stdout",
     "output_type": "stream",
     "text": [
      "The names of the variables in the dataset are:\n",
      "1. customerID\n",
      "2. gender\n",
      "3. SeniorCitizen\n",
      "4. Partner\n",
      "5. Dependents\n",
      "6. tenure\n",
      "7. PhoneService\n",
      "8. MultipleLines\n",
      "9. InternetService\n",
      "10. OnlineSecurity\n",
      "11. OnlineBackup\n",
      "12. DeviceProtection\n",
      "13. TechSupport\n",
      "14. StreamingTV\n",
      "15. StreamingMovies\n",
      "16. Contract\n",
      "17. PaperlessBilling\n",
      "18. PaymentMethod\n",
      "19. MonthlyCharges\n",
      "20. TotalCharges\n",
      "21. Churn\n"
     ]
    }
   ],
   "source": [
    "print(\"The names of the variables in the dataset are:\")\n",
    "\n",
    "for num, column in zip(range(1,len(data.columns)+1),data.columns):\n",
    "    print(f\"{num}. {column}\")"
   ]
  },
  {
   "cell_type": "markdown",
   "id": "1f2ea276",
   "metadata": {
    "papermill": {
     "duration": 0.033158,
     "end_time": "2022-05-14T23:04:28.801361",
     "exception": false,
     "start_time": "2022-05-14T23:04:28.768203",
     "status": "completed"
    },
    "tags": []
   },
   "source": [
    "## **21. In a new cell show the first and last 10 rows in the dataset**\n",
    "* Hint: find the correct DataFrame methods in the Pandas’ documentation"
   ]
  },
  {
   "cell_type": "code",
   "execution_count": 6,
   "id": "5189b6e9",
   "metadata": {
    "execution": {
     "iopub.execute_input": "2022-05-14T23:04:28.869190Z",
     "iopub.status.busy": "2022-05-14T23:04:28.868657Z",
     "iopub.status.idle": "2022-05-14T23:04:28.902286Z",
     "shell.execute_reply": "2022-05-14T23:04:28.901488Z"
    },
    "papermill": {
     "duration": 0.069453,
     "end_time": "2022-05-14T23:04:28.903935",
     "exception": false,
     "start_time": "2022-05-14T23:04:28.834482",
     "status": "completed"
    },
    "tags": []
   },
   "outputs": [
    {
     "name": "stdout",
     "output_type": "stream",
     "text": [
      "The first 10 rows in the dataset are:\n"
     ]
    },
    {
     "data": {
      "text/html": [
       "<div>\n",
       "<style scoped>\n",
       "    .dataframe tbody tr th:only-of-type {\n",
       "        vertical-align: middle;\n",
       "    }\n",
       "\n",
       "    .dataframe tbody tr th {\n",
       "        vertical-align: top;\n",
       "    }\n",
       "\n",
       "    .dataframe thead th {\n",
       "        text-align: right;\n",
       "    }\n",
       "</style>\n",
       "<table border=\"1\" class=\"dataframe\">\n",
       "  <thead>\n",
       "    <tr style=\"text-align: right;\">\n",
       "      <th></th>\n",
       "      <th>customerID</th>\n",
       "      <th>gender</th>\n",
       "      <th>SeniorCitizen</th>\n",
       "      <th>Partner</th>\n",
       "      <th>Dependents</th>\n",
       "      <th>tenure</th>\n",
       "      <th>PhoneService</th>\n",
       "      <th>MultipleLines</th>\n",
       "      <th>InternetService</th>\n",
       "      <th>OnlineSecurity</th>\n",
       "      <th>...</th>\n",
       "      <th>DeviceProtection</th>\n",
       "      <th>TechSupport</th>\n",
       "      <th>StreamingTV</th>\n",
       "      <th>StreamingMovies</th>\n",
       "      <th>Contract</th>\n",
       "      <th>PaperlessBilling</th>\n",
       "      <th>PaymentMethod</th>\n",
       "      <th>MonthlyCharges</th>\n",
       "      <th>TotalCharges</th>\n",
       "      <th>Churn</th>\n",
       "    </tr>\n",
       "  </thead>\n",
       "  <tbody>\n",
       "    <tr>\n",
       "      <th>0</th>\n",
       "      <td>7590-VHVEG</td>\n",
       "      <td>Female</td>\n",
       "      <td>0</td>\n",
       "      <td>Yes</td>\n",
       "      <td>No</td>\n",
       "      <td>1</td>\n",
       "      <td>No</td>\n",
       "      <td>No phone service</td>\n",
       "      <td>DSL</td>\n",
       "      <td>No</td>\n",
       "      <td>...</td>\n",
       "      <td>No</td>\n",
       "      <td>No</td>\n",
       "      <td>No</td>\n",
       "      <td>No</td>\n",
       "      <td>Month-to-month</td>\n",
       "      <td>Yes</td>\n",
       "      <td>Electronic check</td>\n",
       "      <td>29.85</td>\n",
       "      <td>29.85</td>\n",
       "      <td>No</td>\n",
       "    </tr>\n",
       "    <tr>\n",
       "      <th>1</th>\n",
       "      <td>5575-GNVDE</td>\n",
       "      <td>Male</td>\n",
       "      <td>0</td>\n",
       "      <td>No</td>\n",
       "      <td>No</td>\n",
       "      <td>34</td>\n",
       "      <td>Yes</td>\n",
       "      <td>No</td>\n",
       "      <td>DSL</td>\n",
       "      <td>Yes</td>\n",
       "      <td>...</td>\n",
       "      <td>Yes</td>\n",
       "      <td>No</td>\n",
       "      <td>No</td>\n",
       "      <td>No</td>\n",
       "      <td>One year</td>\n",
       "      <td>No</td>\n",
       "      <td>Mailed check</td>\n",
       "      <td>56.95</td>\n",
       "      <td>1889.5</td>\n",
       "      <td>No</td>\n",
       "    </tr>\n",
       "    <tr>\n",
       "      <th>2</th>\n",
       "      <td>3668-QPYBK</td>\n",
       "      <td>Male</td>\n",
       "      <td>0</td>\n",
       "      <td>No</td>\n",
       "      <td>No</td>\n",
       "      <td>2</td>\n",
       "      <td>Yes</td>\n",
       "      <td>No</td>\n",
       "      <td>DSL</td>\n",
       "      <td>Yes</td>\n",
       "      <td>...</td>\n",
       "      <td>No</td>\n",
       "      <td>No</td>\n",
       "      <td>No</td>\n",
       "      <td>No</td>\n",
       "      <td>Month-to-month</td>\n",
       "      <td>Yes</td>\n",
       "      <td>Mailed check</td>\n",
       "      <td>53.85</td>\n",
       "      <td>108.15</td>\n",
       "      <td>Yes</td>\n",
       "    </tr>\n",
       "    <tr>\n",
       "      <th>3</th>\n",
       "      <td>7795-CFOCW</td>\n",
       "      <td>Male</td>\n",
       "      <td>0</td>\n",
       "      <td>No</td>\n",
       "      <td>No</td>\n",
       "      <td>45</td>\n",
       "      <td>No</td>\n",
       "      <td>No phone service</td>\n",
       "      <td>DSL</td>\n",
       "      <td>Yes</td>\n",
       "      <td>...</td>\n",
       "      <td>Yes</td>\n",
       "      <td>Yes</td>\n",
       "      <td>No</td>\n",
       "      <td>No</td>\n",
       "      <td>One year</td>\n",
       "      <td>No</td>\n",
       "      <td>Bank transfer (automatic)</td>\n",
       "      <td>42.30</td>\n",
       "      <td>1840.75</td>\n",
       "      <td>No</td>\n",
       "    </tr>\n",
       "    <tr>\n",
       "      <th>4</th>\n",
       "      <td>9237-HQITU</td>\n",
       "      <td>Female</td>\n",
       "      <td>0</td>\n",
       "      <td>No</td>\n",
       "      <td>No</td>\n",
       "      <td>2</td>\n",
       "      <td>Yes</td>\n",
       "      <td>No</td>\n",
       "      <td>Fiber optic</td>\n",
       "      <td>No</td>\n",
       "      <td>...</td>\n",
       "      <td>No</td>\n",
       "      <td>No</td>\n",
       "      <td>No</td>\n",
       "      <td>No</td>\n",
       "      <td>Month-to-month</td>\n",
       "      <td>Yes</td>\n",
       "      <td>Electronic check</td>\n",
       "      <td>70.70</td>\n",
       "      <td>151.65</td>\n",
       "      <td>Yes</td>\n",
       "    </tr>\n",
       "    <tr>\n",
       "      <th>5</th>\n",
       "      <td>9305-CDSKC</td>\n",
       "      <td>Female</td>\n",
       "      <td>0</td>\n",
       "      <td>No</td>\n",
       "      <td>No</td>\n",
       "      <td>8</td>\n",
       "      <td>Yes</td>\n",
       "      <td>Yes</td>\n",
       "      <td>Fiber optic</td>\n",
       "      <td>No</td>\n",
       "      <td>...</td>\n",
       "      <td>Yes</td>\n",
       "      <td>No</td>\n",
       "      <td>Yes</td>\n",
       "      <td>Yes</td>\n",
       "      <td>Month-to-month</td>\n",
       "      <td>Yes</td>\n",
       "      <td>Electronic check</td>\n",
       "      <td>99.65</td>\n",
       "      <td>820.5</td>\n",
       "      <td>Yes</td>\n",
       "    </tr>\n",
       "    <tr>\n",
       "      <th>6</th>\n",
       "      <td>1452-KIOVK</td>\n",
       "      <td>Male</td>\n",
       "      <td>0</td>\n",
       "      <td>No</td>\n",
       "      <td>Yes</td>\n",
       "      <td>22</td>\n",
       "      <td>Yes</td>\n",
       "      <td>Yes</td>\n",
       "      <td>Fiber optic</td>\n",
       "      <td>No</td>\n",
       "      <td>...</td>\n",
       "      <td>No</td>\n",
       "      <td>No</td>\n",
       "      <td>Yes</td>\n",
       "      <td>No</td>\n",
       "      <td>Month-to-month</td>\n",
       "      <td>Yes</td>\n",
       "      <td>Credit card (automatic)</td>\n",
       "      <td>89.10</td>\n",
       "      <td>1949.4</td>\n",
       "      <td>No</td>\n",
       "    </tr>\n",
       "    <tr>\n",
       "      <th>7</th>\n",
       "      <td>6713-OKOMC</td>\n",
       "      <td>Female</td>\n",
       "      <td>0</td>\n",
       "      <td>No</td>\n",
       "      <td>No</td>\n",
       "      <td>10</td>\n",
       "      <td>No</td>\n",
       "      <td>No phone service</td>\n",
       "      <td>DSL</td>\n",
       "      <td>Yes</td>\n",
       "      <td>...</td>\n",
       "      <td>No</td>\n",
       "      <td>No</td>\n",
       "      <td>No</td>\n",
       "      <td>No</td>\n",
       "      <td>Month-to-month</td>\n",
       "      <td>No</td>\n",
       "      <td>Mailed check</td>\n",
       "      <td>29.75</td>\n",
       "      <td>301.9</td>\n",
       "      <td>No</td>\n",
       "    </tr>\n",
       "    <tr>\n",
       "      <th>8</th>\n",
       "      <td>7892-POOKP</td>\n",
       "      <td>Female</td>\n",
       "      <td>0</td>\n",
       "      <td>Yes</td>\n",
       "      <td>No</td>\n",
       "      <td>28</td>\n",
       "      <td>Yes</td>\n",
       "      <td>Yes</td>\n",
       "      <td>Fiber optic</td>\n",
       "      <td>No</td>\n",
       "      <td>...</td>\n",
       "      <td>Yes</td>\n",
       "      <td>Yes</td>\n",
       "      <td>Yes</td>\n",
       "      <td>Yes</td>\n",
       "      <td>Month-to-month</td>\n",
       "      <td>Yes</td>\n",
       "      <td>Electronic check</td>\n",
       "      <td>104.80</td>\n",
       "      <td>3046.05</td>\n",
       "      <td>Yes</td>\n",
       "    </tr>\n",
       "    <tr>\n",
       "      <th>9</th>\n",
       "      <td>6388-TABGU</td>\n",
       "      <td>Male</td>\n",
       "      <td>0</td>\n",
       "      <td>No</td>\n",
       "      <td>Yes</td>\n",
       "      <td>62</td>\n",
       "      <td>Yes</td>\n",
       "      <td>No</td>\n",
       "      <td>DSL</td>\n",
       "      <td>Yes</td>\n",
       "      <td>...</td>\n",
       "      <td>No</td>\n",
       "      <td>No</td>\n",
       "      <td>No</td>\n",
       "      <td>No</td>\n",
       "      <td>One year</td>\n",
       "      <td>No</td>\n",
       "      <td>Bank transfer (automatic)</td>\n",
       "      <td>56.15</td>\n",
       "      <td>3487.95</td>\n",
       "      <td>No</td>\n",
       "    </tr>\n",
       "  </tbody>\n",
       "</table>\n",
       "<p>10 rows × 21 columns</p>\n",
       "</div>"
      ],
      "text/plain": [
       "   customerID  gender  SeniorCitizen Partner Dependents  tenure PhoneService  \\\n",
       "0  7590-VHVEG  Female              0     Yes         No       1           No   \n",
       "1  5575-GNVDE    Male              0      No         No      34          Yes   \n",
       "2  3668-QPYBK    Male              0      No         No       2          Yes   \n",
       "3  7795-CFOCW    Male              0      No         No      45           No   \n",
       "4  9237-HQITU  Female              0      No         No       2          Yes   \n",
       "5  9305-CDSKC  Female              0      No         No       8          Yes   \n",
       "6  1452-KIOVK    Male              0      No        Yes      22          Yes   \n",
       "7  6713-OKOMC  Female              0      No         No      10           No   \n",
       "8  7892-POOKP  Female              0     Yes         No      28          Yes   \n",
       "9  6388-TABGU    Male              0      No        Yes      62          Yes   \n",
       "\n",
       "      MultipleLines InternetService OnlineSecurity  ... DeviceProtection  \\\n",
       "0  No phone service             DSL             No  ...               No   \n",
       "1                No             DSL            Yes  ...              Yes   \n",
       "2                No             DSL            Yes  ...               No   \n",
       "3  No phone service             DSL            Yes  ...              Yes   \n",
       "4                No     Fiber optic             No  ...               No   \n",
       "5               Yes     Fiber optic             No  ...              Yes   \n",
       "6               Yes     Fiber optic             No  ...               No   \n",
       "7  No phone service             DSL            Yes  ...               No   \n",
       "8               Yes     Fiber optic             No  ...              Yes   \n",
       "9                No             DSL            Yes  ...               No   \n",
       "\n",
       "  TechSupport StreamingTV StreamingMovies        Contract PaperlessBilling  \\\n",
       "0          No          No              No  Month-to-month              Yes   \n",
       "1          No          No              No        One year               No   \n",
       "2          No          No              No  Month-to-month              Yes   \n",
       "3         Yes          No              No        One year               No   \n",
       "4          No          No              No  Month-to-month              Yes   \n",
       "5          No         Yes             Yes  Month-to-month              Yes   \n",
       "6          No         Yes              No  Month-to-month              Yes   \n",
       "7          No          No              No  Month-to-month               No   \n",
       "8         Yes         Yes             Yes  Month-to-month              Yes   \n",
       "9          No          No              No        One year               No   \n",
       "\n",
       "               PaymentMethod MonthlyCharges  TotalCharges Churn  \n",
       "0           Electronic check          29.85         29.85    No  \n",
       "1               Mailed check          56.95        1889.5    No  \n",
       "2               Mailed check          53.85        108.15   Yes  \n",
       "3  Bank transfer (automatic)          42.30       1840.75    No  \n",
       "4           Electronic check          70.70        151.65   Yes  \n",
       "5           Electronic check          99.65         820.5   Yes  \n",
       "6    Credit card (automatic)          89.10        1949.4    No  \n",
       "7               Mailed check          29.75         301.9    No  \n",
       "8           Electronic check         104.80       3046.05   Yes  \n",
       "9  Bank transfer (automatic)          56.15       3487.95    No  \n",
       "\n",
       "[10 rows x 21 columns]"
      ]
     },
     "execution_count": 6,
     "metadata": {},
     "output_type": "execute_result"
    }
   ],
   "source": [
    "print(\"The first 10 rows in the dataset are:\")\n",
    "data.head(10)"
   ]
  },
  {
   "cell_type": "code",
   "execution_count": 7,
   "id": "d2536f1a",
   "metadata": {
    "execution": {
     "iopub.execute_input": "2022-05-14T23:04:28.973994Z",
     "iopub.status.busy": "2022-05-14T23:04:28.973714Z",
     "iopub.status.idle": "2022-05-14T23:04:28.996906Z",
     "shell.execute_reply": "2022-05-14T23:04:28.996244Z"
    },
    "papermill": {
     "duration": 0.060076,
     "end_time": "2022-05-14T23:04:28.998627",
     "exception": false,
     "start_time": "2022-05-14T23:04:28.938551",
     "status": "completed"
    },
    "tags": []
   },
   "outputs": [
    {
     "name": "stdout",
     "output_type": "stream",
     "text": [
      "The last 10 rows in the dataset are:\n"
     ]
    },
    {
     "data": {
      "text/html": [
       "<div>\n",
       "<style scoped>\n",
       "    .dataframe tbody tr th:only-of-type {\n",
       "        vertical-align: middle;\n",
       "    }\n",
       "\n",
       "    .dataframe tbody tr th {\n",
       "        vertical-align: top;\n",
       "    }\n",
       "\n",
       "    .dataframe thead th {\n",
       "        text-align: right;\n",
       "    }\n",
       "</style>\n",
       "<table border=\"1\" class=\"dataframe\">\n",
       "  <thead>\n",
       "    <tr style=\"text-align: right;\">\n",
       "      <th></th>\n",
       "      <th>customerID</th>\n",
       "      <th>gender</th>\n",
       "      <th>SeniorCitizen</th>\n",
       "      <th>Partner</th>\n",
       "      <th>Dependents</th>\n",
       "      <th>tenure</th>\n",
       "      <th>PhoneService</th>\n",
       "      <th>MultipleLines</th>\n",
       "      <th>InternetService</th>\n",
       "      <th>OnlineSecurity</th>\n",
       "      <th>...</th>\n",
       "      <th>DeviceProtection</th>\n",
       "      <th>TechSupport</th>\n",
       "      <th>StreamingTV</th>\n",
       "      <th>StreamingMovies</th>\n",
       "      <th>Contract</th>\n",
       "      <th>PaperlessBilling</th>\n",
       "      <th>PaymentMethod</th>\n",
       "      <th>MonthlyCharges</th>\n",
       "      <th>TotalCharges</th>\n",
       "      <th>Churn</th>\n",
       "    </tr>\n",
       "  </thead>\n",
       "  <tbody>\n",
       "    <tr>\n",
       "      <th>7033</th>\n",
       "      <td>9767-FFLEM</td>\n",
       "      <td>Male</td>\n",
       "      <td>0</td>\n",
       "      <td>No</td>\n",
       "      <td>No</td>\n",
       "      <td>38</td>\n",
       "      <td>Yes</td>\n",
       "      <td>No</td>\n",
       "      <td>Fiber optic</td>\n",
       "      <td>No</td>\n",
       "      <td>...</td>\n",
       "      <td>No</td>\n",
       "      <td>No</td>\n",
       "      <td>No</td>\n",
       "      <td>No</td>\n",
       "      <td>Month-to-month</td>\n",
       "      <td>Yes</td>\n",
       "      <td>Credit card (automatic)</td>\n",
       "      <td>69.50</td>\n",
       "      <td>2625.25</td>\n",
       "      <td>No</td>\n",
       "    </tr>\n",
       "    <tr>\n",
       "      <th>7034</th>\n",
       "      <td>0639-TSIQW</td>\n",
       "      <td>Female</td>\n",
       "      <td>0</td>\n",
       "      <td>No</td>\n",
       "      <td>No</td>\n",
       "      <td>67</td>\n",
       "      <td>Yes</td>\n",
       "      <td>Yes</td>\n",
       "      <td>Fiber optic</td>\n",
       "      <td>Yes</td>\n",
       "      <td>...</td>\n",
       "      <td>Yes</td>\n",
       "      <td>No</td>\n",
       "      <td>Yes</td>\n",
       "      <td>No</td>\n",
       "      <td>Month-to-month</td>\n",
       "      <td>Yes</td>\n",
       "      <td>Credit card (automatic)</td>\n",
       "      <td>102.95</td>\n",
       "      <td>6886.25</td>\n",
       "      <td>Yes</td>\n",
       "    </tr>\n",
       "    <tr>\n",
       "      <th>7035</th>\n",
       "      <td>8456-QDAVC</td>\n",
       "      <td>Male</td>\n",
       "      <td>0</td>\n",
       "      <td>No</td>\n",
       "      <td>No</td>\n",
       "      <td>19</td>\n",
       "      <td>Yes</td>\n",
       "      <td>No</td>\n",
       "      <td>Fiber optic</td>\n",
       "      <td>No</td>\n",
       "      <td>...</td>\n",
       "      <td>No</td>\n",
       "      <td>No</td>\n",
       "      <td>Yes</td>\n",
       "      <td>No</td>\n",
       "      <td>Month-to-month</td>\n",
       "      <td>Yes</td>\n",
       "      <td>Bank transfer (automatic)</td>\n",
       "      <td>78.70</td>\n",
       "      <td>1495.1</td>\n",
       "      <td>No</td>\n",
       "    </tr>\n",
       "    <tr>\n",
       "      <th>7036</th>\n",
       "      <td>7750-EYXWZ</td>\n",
       "      <td>Female</td>\n",
       "      <td>0</td>\n",
       "      <td>No</td>\n",
       "      <td>No</td>\n",
       "      <td>12</td>\n",
       "      <td>No</td>\n",
       "      <td>No phone service</td>\n",
       "      <td>DSL</td>\n",
       "      <td>No</td>\n",
       "      <td>...</td>\n",
       "      <td>Yes</td>\n",
       "      <td>Yes</td>\n",
       "      <td>Yes</td>\n",
       "      <td>Yes</td>\n",
       "      <td>One year</td>\n",
       "      <td>No</td>\n",
       "      <td>Electronic check</td>\n",
       "      <td>60.65</td>\n",
       "      <td>743.3</td>\n",
       "      <td>No</td>\n",
       "    </tr>\n",
       "    <tr>\n",
       "      <th>7037</th>\n",
       "      <td>2569-WGERO</td>\n",
       "      <td>Female</td>\n",
       "      <td>0</td>\n",
       "      <td>No</td>\n",
       "      <td>No</td>\n",
       "      <td>72</td>\n",
       "      <td>Yes</td>\n",
       "      <td>No</td>\n",
       "      <td>No</td>\n",
       "      <td>No internet service</td>\n",
       "      <td>...</td>\n",
       "      <td>No internet service</td>\n",
       "      <td>No internet service</td>\n",
       "      <td>No internet service</td>\n",
       "      <td>No internet service</td>\n",
       "      <td>Two year</td>\n",
       "      <td>Yes</td>\n",
       "      <td>Bank transfer (automatic)</td>\n",
       "      <td>21.15</td>\n",
       "      <td>1419.4</td>\n",
       "      <td>No</td>\n",
       "    </tr>\n",
       "    <tr>\n",
       "      <th>7038</th>\n",
       "      <td>6840-RESVB</td>\n",
       "      <td>Male</td>\n",
       "      <td>0</td>\n",
       "      <td>Yes</td>\n",
       "      <td>Yes</td>\n",
       "      <td>24</td>\n",
       "      <td>Yes</td>\n",
       "      <td>Yes</td>\n",
       "      <td>DSL</td>\n",
       "      <td>Yes</td>\n",
       "      <td>...</td>\n",
       "      <td>Yes</td>\n",
       "      <td>Yes</td>\n",
       "      <td>Yes</td>\n",
       "      <td>Yes</td>\n",
       "      <td>One year</td>\n",
       "      <td>Yes</td>\n",
       "      <td>Mailed check</td>\n",
       "      <td>84.80</td>\n",
       "      <td>1990.5</td>\n",
       "      <td>No</td>\n",
       "    </tr>\n",
       "    <tr>\n",
       "      <th>7039</th>\n",
       "      <td>2234-XADUH</td>\n",
       "      <td>Female</td>\n",
       "      <td>0</td>\n",
       "      <td>Yes</td>\n",
       "      <td>Yes</td>\n",
       "      <td>72</td>\n",
       "      <td>Yes</td>\n",
       "      <td>Yes</td>\n",
       "      <td>Fiber optic</td>\n",
       "      <td>No</td>\n",
       "      <td>...</td>\n",
       "      <td>Yes</td>\n",
       "      <td>No</td>\n",
       "      <td>Yes</td>\n",
       "      <td>Yes</td>\n",
       "      <td>One year</td>\n",
       "      <td>Yes</td>\n",
       "      <td>Credit card (automatic)</td>\n",
       "      <td>103.20</td>\n",
       "      <td>7362.9</td>\n",
       "      <td>No</td>\n",
       "    </tr>\n",
       "    <tr>\n",
       "      <th>7040</th>\n",
       "      <td>4801-JZAZL</td>\n",
       "      <td>Female</td>\n",
       "      <td>0</td>\n",
       "      <td>Yes</td>\n",
       "      <td>Yes</td>\n",
       "      <td>11</td>\n",
       "      <td>No</td>\n",
       "      <td>No phone service</td>\n",
       "      <td>DSL</td>\n",
       "      <td>Yes</td>\n",
       "      <td>...</td>\n",
       "      <td>No</td>\n",
       "      <td>No</td>\n",
       "      <td>No</td>\n",
       "      <td>No</td>\n",
       "      <td>Month-to-month</td>\n",
       "      <td>Yes</td>\n",
       "      <td>Electronic check</td>\n",
       "      <td>29.60</td>\n",
       "      <td>346.45</td>\n",
       "      <td>No</td>\n",
       "    </tr>\n",
       "    <tr>\n",
       "      <th>7041</th>\n",
       "      <td>8361-LTMKD</td>\n",
       "      <td>Male</td>\n",
       "      <td>1</td>\n",
       "      <td>Yes</td>\n",
       "      <td>No</td>\n",
       "      <td>4</td>\n",
       "      <td>Yes</td>\n",
       "      <td>Yes</td>\n",
       "      <td>Fiber optic</td>\n",
       "      <td>No</td>\n",
       "      <td>...</td>\n",
       "      <td>No</td>\n",
       "      <td>No</td>\n",
       "      <td>No</td>\n",
       "      <td>No</td>\n",
       "      <td>Month-to-month</td>\n",
       "      <td>Yes</td>\n",
       "      <td>Mailed check</td>\n",
       "      <td>74.40</td>\n",
       "      <td>306.6</td>\n",
       "      <td>Yes</td>\n",
       "    </tr>\n",
       "    <tr>\n",
       "      <th>7042</th>\n",
       "      <td>3186-AJIEK</td>\n",
       "      <td>Male</td>\n",
       "      <td>0</td>\n",
       "      <td>No</td>\n",
       "      <td>No</td>\n",
       "      <td>66</td>\n",
       "      <td>Yes</td>\n",
       "      <td>No</td>\n",
       "      <td>Fiber optic</td>\n",
       "      <td>Yes</td>\n",
       "      <td>...</td>\n",
       "      <td>Yes</td>\n",
       "      <td>Yes</td>\n",
       "      <td>Yes</td>\n",
       "      <td>Yes</td>\n",
       "      <td>Two year</td>\n",
       "      <td>Yes</td>\n",
       "      <td>Bank transfer (automatic)</td>\n",
       "      <td>105.65</td>\n",
       "      <td>6844.5</td>\n",
       "      <td>No</td>\n",
       "    </tr>\n",
       "  </tbody>\n",
       "</table>\n",
       "<p>10 rows × 21 columns</p>\n",
       "</div>"
      ],
      "text/plain": [
       "      customerID  gender  SeniorCitizen Partner Dependents  tenure  \\\n",
       "7033  9767-FFLEM    Male              0      No         No      38   \n",
       "7034  0639-TSIQW  Female              0      No         No      67   \n",
       "7035  8456-QDAVC    Male              0      No         No      19   \n",
       "7036  7750-EYXWZ  Female              0      No         No      12   \n",
       "7037  2569-WGERO  Female              0      No         No      72   \n",
       "7038  6840-RESVB    Male              0     Yes        Yes      24   \n",
       "7039  2234-XADUH  Female              0     Yes        Yes      72   \n",
       "7040  4801-JZAZL  Female              0     Yes        Yes      11   \n",
       "7041  8361-LTMKD    Male              1     Yes         No       4   \n",
       "7042  3186-AJIEK    Male              0      No         No      66   \n",
       "\n",
       "     PhoneService     MultipleLines InternetService       OnlineSecurity  ...  \\\n",
       "7033          Yes                No     Fiber optic                   No  ...   \n",
       "7034          Yes               Yes     Fiber optic                  Yes  ...   \n",
       "7035          Yes                No     Fiber optic                   No  ...   \n",
       "7036           No  No phone service             DSL                   No  ...   \n",
       "7037          Yes                No              No  No internet service  ...   \n",
       "7038          Yes               Yes             DSL                  Yes  ...   \n",
       "7039          Yes               Yes     Fiber optic                   No  ...   \n",
       "7040           No  No phone service             DSL                  Yes  ...   \n",
       "7041          Yes               Yes     Fiber optic                   No  ...   \n",
       "7042          Yes                No     Fiber optic                  Yes  ...   \n",
       "\n",
       "         DeviceProtection          TechSupport          StreamingTV  \\\n",
       "7033                   No                   No                   No   \n",
       "7034                  Yes                   No                  Yes   \n",
       "7035                   No                   No                  Yes   \n",
       "7036                  Yes                  Yes                  Yes   \n",
       "7037  No internet service  No internet service  No internet service   \n",
       "7038                  Yes                  Yes                  Yes   \n",
       "7039                  Yes                   No                  Yes   \n",
       "7040                   No                   No                   No   \n",
       "7041                   No                   No                   No   \n",
       "7042                  Yes                  Yes                  Yes   \n",
       "\n",
       "          StreamingMovies        Contract PaperlessBilling  \\\n",
       "7033                   No  Month-to-month              Yes   \n",
       "7034                   No  Month-to-month              Yes   \n",
       "7035                   No  Month-to-month              Yes   \n",
       "7036                  Yes        One year               No   \n",
       "7037  No internet service        Two year              Yes   \n",
       "7038                  Yes        One year              Yes   \n",
       "7039                  Yes        One year              Yes   \n",
       "7040                   No  Month-to-month              Yes   \n",
       "7041                   No  Month-to-month              Yes   \n",
       "7042                  Yes        Two year              Yes   \n",
       "\n",
       "                  PaymentMethod MonthlyCharges  TotalCharges Churn  \n",
       "7033    Credit card (automatic)          69.50       2625.25    No  \n",
       "7034    Credit card (automatic)         102.95       6886.25   Yes  \n",
       "7035  Bank transfer (automatic)          78.70        1495.1    No  \n",
       "7036           Electronic check          60.65         743.3    No  \n",
       "7037  Bank transfer (automatic)          21.15        1419.4    No  \n",
       "7038               Mailed check          84.80        1990.5    No  \n",
       "7039    Credit card (automatic)         103.20        7362.9    No  \n",
       "7040           Electronic check          29.60        346.45    No  \n",
       "7041               Mailed check          74.40         306.6   Yes  \n",
       "7042  Bank transfer (automatic)         105.65        6844.5    No  \n",
       "\n",
       "[10 rows x 21 columns]"
      ]
     },
     "execution_count": 7,
     "metadata": {},
     "output_type": "execute_result"
    }
   ],
   "source": [
    "print(\"The last 10 rows in the dataset are:\")\n",
    "data.tail(10)"
   ]
  },
  {
   "cell_type": "markdown",
   "id": "eec2e5a9",
   "metadata": {
    "papermill": {
     "duration": 0.035862,
     "end_time": "2022-05-14T23:04:29.069870",
     "exception": false,
     "start_time": "2022-05-14T23:04:29.034008",
     "status": "completed"
    },
    "tags": []
   },
   "source": [
    "## **22. In a new cell show i) the type of variable data, ii) the number of missing values for each variable, iii) the type of each variable, iv) the total memory used to store variable data**\n",
    "* Hint: all this information can be provided by a single method of DataFrame\n",
    "With the method `.info` we can observe all the info asked."
   ]
  },
  {
   "cell_type": "code",
   "execution_count": 8,
   "id": "0035be29",
   "metadata": {
    "execution": {
     "iopub.execute_input": "2022-05-14T23:04:29.143754Z",
     "iopub.status.busy": "2022-05-14T23:04:29.143263Z",
     "iopub.status.idle": "2022-05-14T23:04:29.177236Z",
     "shell.execute_reply": "2022-05-14T23:04:29.176624Z"
    },
    "papermill": {
     "duration": 0.073964,
     "end_time": "2022-05-14T23:04:29.179190",
     "exception": false,
     "start_time": "2022-05-14T23:04:29.105226",
     "status": "completed"
    },
    "tags": []
   },
   "outputs": [
    {
     "name": "stdout",
     "output_type": "stream",
     "text": [
      "<class 'pandas.core.frame.DataFrame'>\n",
      "RangeIndex: 7043 entries, 0 to 7042\n",
      "Data columns (total 21 columns):\n",
      " #   Column            Non-Null Count  Dtype  \n",
      "---  ------            --------------  -----  \n",
      " 0   customerID        7043 non-null   object \n",
      " 1   gender            7043 non-null   object \n",
      " 2   SeniorCitizen     7043 non-null   int64  \n",
      " 3   Partner           7043 non-null   object \n",
      " 4   Dependents        7043 non-null   object \n",
      " 5   tenure            7043 non-null   int64  \n",
      " 6   PhoneService      7043 non-null   object \n",
      " 7   MultipleLines     7043 non-null   object \n",
      " 8   InternetService   7043 non-null   object \n",
      " 9   OnlineSecurity    7043 non-null   object \n",
      " 10  OnlineBackup      7043 non-null   object \n",
      " 11  DeviceProtection  7043 non-null   object \n",
      " 12  TechSupport       7043 non-null   object \n",
      " 13  StreamingTV       7043 non-null   object \n",
      " 14  StreamingMovies   7043 non-null   object \n",
      " 15  Contract          7043 non-null   object \n",
      " 16  PaperlessBilling  7043 non-null   object \n",
      " 17  PaymentMethod     7043 non-null   object \n",
      " 18  MonthlyCharges    7043 non-null   float64\n",
      " 19  TotalCharges      7043 non-null   object \n",
      " 20  Churn             7043 non-null   object \n",
      "dtypes: float64(1), int64(2), object(18)\n",
      "memory usage: 7.8 MB\n"
     ]
    }
   ],
   "source": [
    "data.info(verbose=True,memory_usage='deep')"
   ]
  },
  {
   "cell_type": "code",
   "execution_count": 9,
   "id": "17b81246",
   "metadata": {
    "execution": {
     "iopub.execute_input": "2022-05-14T23:04:29.251918Z",
     "iopub.status.busy": "2022-05-14T23:04:29.251238Z",
     "iopub.status.idle": "2022-05-14T23:04:29.256272Z",
     "shell.execute_reply": "2022-05-14T23:04:29.255433Z"
    },
    "papermill": {
     "duration": 0.043269,
     "end_time": "2022-05-14T23:04:29.257871",
     "exception": false,
     "start_time": "2022-05-14T23:04:29.214602",
     "status": "completed"
    },
    "tags": []
   },
   "outputs": [
    {
     "name": "stdout",
     "output_type": "stream",
     "text": [
      "\n",
      "'TotalCharges' contains also empty value and it will be difficult to handle,for instance data.iloc[488]['TotalCharges'] contains:    .\n",
      "A possible solution is to cast these two variables.\n"
     ]
    }
   ],
   "source": [
    "print(\"\\n'TotalCharges' contains also empty value and it will be difficult to handle,\\\n",
    "for instance data.iloc[488]['TotalCharges'] contains: \",data.iloc[488]['TotalCharges'],\".\\n\\\n",
    "A possible solution is to cast these two variables.\")"
   ]
  },
  {
   "cell_type": "markdown",
   "id": "932e8d4e",
   "metadata": {
    "papermill": {
     "duration": 0.035863,
     "end_time": "2022-05-14T23:04:29.329292",
     "exception": false,
     "start_time": "2022-05-14T23:04:29.293429",
     "status": "completed"
    },
    "tags": []
   },
   "source": [
    "<div class=\"alert alert-block alert-warning\">\n",
    "    **WARNING**: Pay attention to 'customerID' and 'TotalCharges' variables because they are object, but they contains numerical values!\n",
    "</div>"
   ]
  },
  {
   "cell_type": "markdown",
   "id": "d24dceaf",
   "metadata": {
    "papermill": {
     "duration": 0.0358,
     "end_time": "2022-05-14T23:04:29.401007",
     "exception": false,
     "start_time": "2022-05-14T23:04:29.365207",
     "status": "completed"
    },
    "tags": []
   },
   "source": [
    "### * How many missing values are there in total?\n",
    "> To detect missing values I use the method `.isnull()`:"
   ]
  },
  {
   "cell_type": "code",
   "execution_count": 10,
   "id": "7021ce80",
   "metadata": {
    "execution": {
     "iopub.execute_input": "2022-05-14T23:04:29.474112Z",
     "iopub.status.busy": "2022-05-14T23:04:29.473484Z",
     "iopub.status.idle": "2022-05-14T23:04:29.485299Z",
     "shell.execute_reply": "2022-05-14T23:04:29.484541Z"
    },
    "papermill": {
     "duration": 0.050297,
     "end_time": "2022-05-14T23:04:29.486929",
     "exception": false,
     "start_time": "2022-05-14T23:04:29.436632",
     "status": "completed"
    },
    "tags": []
   },
   "outputs": [
    {
     "name": "stdout",
     "output_type": "stream",
     "text": [
      "There are  0  missing values in total.\n"
     ]
    }
   ],
   "source": [
    "# # Count total NaN at each column in a DataFrame\n",
    "# print(\" \\nCount total NaN at each column in a DataFrame:\\n\",\\\n",
    "#       data.isnull().sum(),\"\\n\")\n",
    "\n",
    "# # Count total NaN at each row in a DataFrame\n",
    "# for i in range(len(data.index)) :\n",
    "#     print(\" Total NaN in row\", i + 1, \":\",\n",
    "#           data.iloc[i].isnull().sum())\n",
    "\n",
    "print(\"There are \",data.isnull().sum().sum(),\" missing values in total.\")"
   ]
  },
  {
   "cell_type": "markdown",
   "id": "9d1e20c6",
   "metadata": {
    "papermill": {
     "duration": 0.036018,
     "end_time": "2022-05-14T23:04:29.559527",
     "exception": false,
     "start_time": "2022-05-14T23:04:29.523509",
     "status": "completed"
    },
    "tags": []
   },
   "source": [
    "### * Which variables are categorical?"
   ]
  },
  {
   "cell_type": "code",
   "execution_count": 11,
   "id": "de961090",
   "metadata": {
    "execution": {
     "iopub.execute_input": "2022-05-14T23:04:29.633533Z",
     "iopub.status.busy": "2022-05-14T23:04:29.632905Z",
     "iopub.status.idle": "2022-05-14T23:04:29.642709Z",
     "shell.execute_reply": "2022-05-14T23:04:29.641985Z"
    },
    "papermill": {
     "duration": 0.048308,
     "end_time": "2022-05-14T23:04:29.644536",
     "exception": false,
     "start_time": "2022-05-14T23:04:29.596228",
     "status": "completed"
    },
    "tags": []
   },
   "outputs": [
    {
     "name": "stdout",
     "output_type": "stream",
     "text": [
      "\n",
      "The categorical variables are:\n",
      "1. customerID\n",
      "2. gender\n",
      "3. Partner\n",
      "4. Dependents\n",
      "5. PhoneService\n",
      "6. MultipleLines\n",
      "7. InternetService\n",
      "8. OnlineSecurity\n",
      "9. OnlineBackup\n",
      "10. DeviceProtection\n",
      "11. TechSupport\n",
      "12. StreamingTV\n",
      "13. StreamingMovies\n",
      "14. Contract\n",
      "15. PaperlessBilling\n",
      "16. PaymentMethod\n",
      "17. TotalCharges\n",
      "18. Churn\n"
     ]
    }
   ],
   "source": [
    "print(\"\\nThe categorical variables are:\")\n",
    "\n",
    "objVar = data.select_dtypes(include=['object']).columns.tolist()\n",
    "\n",
    "for num, col in zip(range(1,len(objVar)+1),objVar):\n",
    "    print(f\"{num}. {col}\")"
   ]
  },
  {
   "cell_type": "markdown",
   "id": "5bfc9617",
   "metadata": {
    "papermill": {
     "duration": 0.036346,
     "end_time": "2022-05-14T23:04:29.717324",
     "exception": false,
     "start_time": "2022-05-14T23:04:29.680978",
     "status": "completed"
    },
    "tags": []
   },
   "source": [
    "### * Which variables are numerical?"
   ]
  },
  {
   "cell_type": "code",
   "execution_count": 12,
   "id": "aacb1e59",
   "metadata": {
    "execution": {
     "iopub.execute_input": "2022-05-14T23:04:29.791413Z",
     "iopub.status.busy": "2022-05-14T23:04:29.790908Z",
     "iopub.status.idle": "2022-05-14T23:04:29.798734Z",
     "shell.execute_reply": "2022-05-14T23:04:29.797903Z"
    },
    "papermill": {
     "duration": 0.046732,
     "end_time": "2022-05-14T23:04:29.800510",
     "exception": false,
     "start_time": "2022-05-14T23:04:29.753778",
     "status": "completed"
    },
    "tags": []
   },
   "outputs": [
    {
     "name": "stdout",
     "output_type": "stream",
     "text": [
      "\n",
      "The numerical variables are:\n",
      "1. SeniorCitizen\n",
      "2. tenure\n",
      "3. MonthlyCharges\n"
     ]
    }
   ],
   "source": [
    "print(\"\\nThe numerical variables are:\")\n",
    "\n",
    "    \n",
    "numVar = data.select_dtypes(exclude=['object']).columns.tolist()\n",
    "\n",
    "for num, col in zip(range(1,len(objVar)+1),numVar):\n",
    "    print(f\"{num}. {col}\")"
   ]
  },
  {
   "cell_type": "markdown",
   "id": "c52e43d9",
   "metadata": {
    "papermill": {
     "duration": 0.036793,
     "end_time": "2022-05-14T23:04:29.874460",
     "exception": false,
     "start_time": "2022-05-14T23:04:29.837667",
     "status": "completed"
    },
    "tags": []
   },
   "source": [
    "## **23. In a new cell show the following basic statistics for all `*numerical* variables`: number of non-missing values, mean, standard deviation, minimum, maximum, median, 1 st and 3 rd quartiles**\n",
    "* Hint: all this information can be provided by a single method of DataFrame"
   ]
  },
  {
   "cell_type": "code",
   "execution_count": 13,
   "id": "8c0d5123",
   "metadata": {
    "execution": {
     "iopub.execute_input": "2022-05-14T23:04:29.949161Z",
     "iopub.status.busy": "2022-05-14T23:04:29.948428Z",
     "iopub.status.idle": "2022-05-14T23:04:29.967310Z",
     "shell.execute_reply": "2022-05-14T23:04:29.966730Z"
    },
    "papermill": {
     "duration": 0.058126,
     "end_time": "2022-05-14T23:04:29.968924",
     "exception": false,
     "start_time": "2022-05-14T23:04:29.910798",
     "status": "completed"
    },
    "tags": []
   },
   "outputs": [
    {
     "data": {
      "text/html": [
       "<div>\n",
       "<style scoped>\n",
       "    .dataframe tbody tr th:only-of-type {\n",
       "        vertical-align: middle;\n",
       "    }\n",
       "\n",
       "    .dataframe tbody tr th {\n",
       "        vertical-align: top;\n",
       "    }\n",
       "\n",
       "    .dataframe thead th {\n",
       "        text-align: right;\n",
       "    }\n",
       "</style>\n",
       "<table border=\"1\" class=\"dataframe\">\n",
       "  <thead>\n",
       "    <tr style=\"text-align: right;\">\n",
       "      <th></th>\n",
       "      <th>SeniorCitizen</th>\n",
       "      <th>tenure</th>\n",
       "      <th>MonthlyCharges</th>\n",
       "    </tr>\n",
       "  </thead>\n",
       "  <tbody>\n",
       "    <tr>\n",
       "      <th>count</th>\n",
       "      <td>7043.000000</td>\n",
       "      <td>7043.000000</td>\n",
       "      <td>7043.000000</td>\n",
       "    </tr>\n",
       "    <tr>\n",
       "      <th>mean</th>\n",
       "      <td>0.162147</td>\n",
       "      <td>32.371149</td>\n",
       "      <td>64.761692</td>\n",
       "    </tr>\n",
       "    <tr>\n",
       "      <th>std</th>\n",
       "      <td>0.368612</td>\n",
       "      <td>24.559481</td>\n",
       "      <td>30.090047</td>\n",
       "    </tr>\n",
       "    <tr>\n",
       "      <th>min</th>\n",
       "      <td>0.000000</td>\n",
       "      <td>0.000000</td>\n",
       "      <td>18.250000</td>\n",
       "    </tr>\n",
       "    <tr>\n",
       "      <th>25%</th>\n",
       "      <td>0.000000</td>\n",
       "      <td>9.000000</td>\n",
       "      <td>35.500000</td>\n",
       "    </tr>\n",
       "    <tr>\n",
       "      <th>50%</th>\n",
       "      <td>0.000000</td>\n",
       "      <td>29.000000</td>\n",
       "      <td>70.350000</td>\n",
       "    </tr>\n",
       "    <tr>\n",
       "      <th>75%</th>\n",
       "      <td>0.000000</td>\n",
       "      <td>55.000000</td>\n",
       "      <td>89.850000</td>\n",
       "    </tr>\n",
       "    <tr>\n",
       "      <th>max</th>\n",
       "      <td>1.000000</td>\n",
       "      <td>72.000000</td>\n",
       "      <td>118.750000</td>\n",
       "    </tr>\n",
       "  </tbody>\n",
       "</table>\n",
       "</div>"
      ],
      "text/plain": [
       "       SeniorCitizen       tenure  MonthlyCharges\n",
       "count    7043.000000  7043.000000     7043.000000\n",
       "mean        0.162147    32.371149       64.761692\n",
       "std         0.368612    24.559481       30.090047\n",
       "min         0.000000     0.000000       18.250000\n",
       "25%         0.000000     9.000000       35.500000\n",
       "50%         0.000000    29.000000       70.350000\n",
       "75%         0.000000    55.000000       89.850000\n",
       "max         1.000000    72.000000      118.750000"
      ]
     },
     "execution_count": 13,
     "metadata": {},
     "output_type": "execute_result"
    }
   ],
   "source": [
    "data.describe(percentiles=[.25, .5, .75])"
   ]
  },
  {
   "cell_type": "markdown",
   "id": "5c269d19",
   "metadata": {
    "papermill": {
     "duration": 0.03657,
     "end_time": "2022-05-14T23:04:30.042672",
     "exception": false,
     "start_time": "2022-05-14T23:04:30.006102",
     "status": "completed"
    },
    "tags": []
   },
   "source": [
    "## **24. In a new cell show the following basic information for all `categorical variables`: number of non-missing values, number of unique values, most frequent value and frequency of the most frequent value.**\n",
    "* Hint: all this information can be provided by the DataFrame method used in question 22, using specific arguments\n",
    "* Can you see any strange value in this result?"
   ]
  },
  {
   "cell_type": "code",
   "execution_count": 14,
   "id": "81b3f717",
   "metadata": {
    "execution": {
     "iopub.execute_input": "2022-05-14T23:04:30.117786Z",
     "iopub.status.busy": "2022-05-14T23:04:30.117299Z",
     "iopub.status.idle": "2022-05-14T23:04:30.170417Z",
     "shell.execute_reply": "2022-05-14T23:04:30.169866Z"
    },
    "papermill": {
     "duration": 0.092747,
     "end_time": "2022-05-14T23:04:30.172202",
     "exception": false,
     "start_time": "2022-05-14T23:04:30.079455",
     "status": "completed"
    },
    "tags": []
   },
   "outputs": [
    {
     "data": {
      "text/html": [
       "<div>\n",
       "<style scoped>\n",
       "    .dataframe tbody tr th:only-of-type {\n",
       "        vertical-align: middle;\n",
       "    }\n",
       "\n",
       "    .dataframe tbody tr th {\n",
       "        vertical-align: top;\n",
       "    }\n",
       "\n",
       "    .dataframe thead th {\n",
       "        text-align: right;\n",
       "    }\n",
       "</style>\n",
       "<table border=\"1\" class=\"dataframe\">\n",
       "  <thead>\n",
       "    <tr style=\"text-align: right;\">\n",
       "      <th></th>\n",
       "      <th>customerID</th>\n",
       "      <th>gender</th>\n",
       "      <th>Partner</th>\n",
       "      <th>Dependents</th>\n",
       "      <th>PhoneService</th>\n",
       "      <th>MultipleLines</th>\n",
       "      <th>InternetService</th>\n",
       "      <th>OnlineSecurity</th>\n",
       "      <th>OnlineBackup</th>\n",
       "      <th>DeviceProtection</th>\n",
       "      <th>TechSupport</th>\n",
       "      <th>StreamingTV</th>\n",
       "      <th>StreamingMovies</th>\n",
       "      <th>Contract</th>\n",
       "      <th>PaperlessBilling</th>\n",
       "      <th>PaymentMethod</th>\n",
       "      <th>TotalCharges</th>\n",
       "      <th>Churn</th>\n",
       "    </tr>\n",
       "  </thead>\n",
       "  <tbody>\n",
       "    <tr>\n",
       "      <th>count</th>\n",
       "      <td>7043</td>\n",
       "      <td>7043</td>\n",
       "      <td>7043</td>\n",
       "      <td>7043</td>\n",
       "      <td>7043</td>\n",
       "      <td>7043</td>\n",
       "      <td>7043</td>\n",
       "      <td>7043</td>\n",
       "      <td>7043</td>\n",
       "      <td>7043</td>\n",
       "      <td>7043</td>\n",
       "      <td>7043</td>\n",
       "      <td>7043</td>\n",
       "      <td>7043</td>\n",
       "      <td>7043</td>\n",
       "      <td>7043</td>\n",
       "      <td>7043</td>\n",
       "      <td>7043</td>\n",
       "    </tr>\n",
       "    <tr>\n",
       "      <th>unique</th>\n",
       "      <td>7043</td>\n",
       "      <td>2</td>\n",
       "      <td>2</td>\n",
       "      <td>2</td>\n",
       "      <td>2</td>\n",
       "      <td>3</td>\n",
       "      <td>3</td>\n",
       "      <td>3</td>\n",
       "      <td>3</td>\n",
       "      <td>3</td>\n",
       "      <td>3</td>\n",
       "      <td>3</td>\n",
       "      <td>3</td>\n",
       "      <td>3</td>\n",
       "      <td>2</td>\n",
       "      <td>4</td>\n",
       "      <td>6531</td>\n",
       "      <td>2</td>\n",
       "    </tr>\n",
       "    <tr>\n",
       "      <th>top</th>\n",
       "      <td>7590-VHVEG</td>\n",
       "      <td>Male</td>\n",
       "      <td>No</td>\n",
       "      <td>No</td>\n",
       "      <td>Yes</td>\n",
       "      <td>No</td>\n",
       "      <td>Fiber optic</td>\n",
       "      <td>No</td>\n",
       "      <td>No</td>\n",
       "      <td>No</td>\n",
       "      <td>No</td>\n",
       "      <td>No</td>\n",
       "      <td>No</td>\n",
       "      <td>Month-to-month</td>\n",
       "      <td>Yes</td>\n",
       "      <td>Electronic check</td>\n",
       "      <td></td>\n",
       "      <td>No</td>\n",
       "    </tr>\n",
       "    <tr>\n",
       "      <th>freq</th>\n",
       "      <td>1</td>\n",
       "      <td>3555</td>\n",
       "      <td>3641</td>\n",
       "      <td>4933</td>\n",
       "      <td>6361</td>\n",
       "      <td>3390</td>\n",
       "      <td>3096</td>\n",
       "      <td>3498</td>\n",
       "      <td>3088</td>\n",
       "      <td>3095</td>\n",
       "      <td>3473</td>\n",
       "      <td>2810</td>\n",
       "      <td>2785</td>\n",
       "      <td>3875</td>\n",
       "      <td>4171</td>\n",
       "      <td>2365</td>\n",
       "      <td>11</td>\n",
       "      <td>5174</td>\n",
       "    </tr>\n",
       "  </tbody>\n",
       "</table>\n",
       "</div>"
      ],
      "text/plain": [
       "        customerID gender Partner Dependents PhoneService MultipleLines  \\\n",
       "count         7043   7043    7043       7043         7043          7043   \n",
       "unique        7043      2       2          2            2             3   \n",
       "top     7590-VHVEG   Male      No         No          Yes            No   \n",
       "freq             1   3555    3641       4933         6361          3390   \n",
       "\n",
       "       InternetService OnlineSecurity OnlineBackup DeviceProtection  \\\n",
       "count             7043           7043         7043             7043   \n",
       "unique               3              3            3                3   \n",
       "top        Fiber optic             No           No               No   \n",
       "freq              3096           3498         3088             3095   \n",
       "\n",
       "       TechSupport StreamingTV StreamingMovies        Contract  \\\n",
       "count         7043        7043            7043            7043   \n",
       "unique           3           3               3               3   \n",
       "top             No          No              No  Month-to-month   \n",
       "freq          3473        2810            2785            3875   \n",
       "\n",
       "       PaperlessBilling     PaymentMethod TotalCharges Churn  \n",
       "count              7043              7043         7043  7043  \n",
       "unique                2                 4         6531     2  \n",
       "top                 Yes  Electronic check                 No  \n",
       "freq               4171              2365           11  5174  "
      ]
     },
     "execution_count": 14,
     "metadata": {},
     "output_type": "execute_result"
    }
   ],
   "source": [
    "data.describe(include=['object'])"
   ]
  },
  {
   "cell_type": "markdown",
   "id": "c5632bca",
   "metadata": {
    "papermill": {
     "duration": 0.037327,
     "end_time": "2022-05-14T23:04:30.247066",
     "exception": false,
     "start_time": "2022-05-14T23:04:30.209739",
     "status": "completed"
    },
    "tags": []
   },
   "source": [
    "# **Visualization of data**"
   ]
  },
  {
   "cell_type": "markdown",
   "id": "5ca4015f",
   "metadata": {
    "papermill": {
     "duration": 0.039217,
     "end_time": "2022-05-14T23:04:30.323550",
     "exception": false,
     "start_time": "2022-05-14T23:04:30.284333",
     "status": "completed"
    },
    "tags": []
   },
   "source": [
    "## **25. In a new cell show the histograms of each numeric variable (i.e., column) in the dataset**\n",
    "* Hint: try to find a specific method in the DataFrame API documentation"
   ]
  },
  {
   "cell_type": "code",
   "execution_count": 15,
   "id": "d1b4d6ab",
   "metadata": {
    "execution": {
     "iopub.execute_input": "2022-05-14T23:04:30.400356Z",
     "iopub.status.busy": "2022-05-14T23:04:30.399838Z",
     "iopub.status.idle": "2022-05-14T23:04:30.884047Z",
     "shell.execute_reply": "2022-05-14T23:04:30.883504Z"
    },
    "papermill": {
     "duration": 0.524372,
     "end_time": "2022-05-14T23:04:30.885665",
     "exception": false,
     "start_time": "2022-05-14T23:04:30.361293",
     "status": "completed"
    },
    "tags": []
   },
   "outputs": [
    {
     "data": {
      "image/png": "[encoded data removed]",
      "text/plain": [
       "<Figure size 1440x288 with 3 Axes>"
      ]
     },
     "metadata": {
      "needs_background": "light"
     },
     "output_type": "display_data"
    }
   ],
   "source": [
    "# numdata = data.select_dtypes(include=['number'])\n",
    "# cols = numdata.columns.values\n",
    "numdata = data._get_numeric_data()\n",
    "# numdata.hist(bins=20)\n",
    "\n",
    "# fig properties\n",
    "row = 1\n",
    "col = 3\n",
    "width = 20\n",
    "height = 4\n",
    "\n",
    "# initialize the figure\n",
    "fig, axes = plt.subplots(row, col,figsize=(width,height))\n",
    "\n",
    "for ax,numcol in zip(axes.flatten(),numdata.columns.tolist()):\n",
    "    numdata.hist(column=numcol,ax=ax)\n",
    "    \n",
    "plt.show(fig) # force to show the plot after the print"
   ]
  },
  {
   "cell_type": "markdown",
   "id": "922d5f19",
   "metadata": {
    "papermill": {
     "duration": 0.038397,
     "end_time": "2022-05-14T23:04:30.963910",
     "exception": false,
     "start_time": "2022-05-14T23:04:30.925513",
     "status": "completed"
    },
    "tags": []
   },
   "source": [
    "## **26. In a new cell show the box-plots of each numeric variable (i.e., column) in the dataset**\n",
    "* Hint: try to find a specific method in the DataFrame API documentation\n",
    "* Does this chart provide a good visualization? Why?\n",
    "* Try to generate one box-plot for each numerical variable\n",
    "* Try to put all three charts in the same figure using the subplot function"
   ]
  },
  {
   "cell_type": "code",
   "execution_count": 16,
   "id": "57e18bca",
   "metadata": {
    "execution": {
     "iopub.execute_input": "2022-05-14T23:04:31.042281Z",
     "iopub.status.busy": "2022-05-14T23:04:31.041775Z",
     "iopub.status.idle": "2022-05-14T23:04:31.228830Z",
     "shell.execute_reply": "2022-05-14T23:04:31.227884Z"
    },
    "papermill": {
     "duration": 0.229244,
     "end_time": "2022-05-14T23:04:31.231485",
     "exception": false,
     "start_time": "2022-05-14T23:04:31.002241",
     "status": "completed"
    },
    "tags": []
   },
   "outputs": [
    {
     "name": "stdout",
     "output_type": "stream",
     "text": [
      "Not a good visualization because it groups together all the numerical variables:\n",
      "\n"
     ]
    },
    {
     "data": {
      "image/png": "[encoded data removed]",
      "text/plain": [
       "<Figure size 432x288 with 1 Axes>"
      ]
     },
     "metadata": {
      "needs_background": "light"
     },
     "output_type": "display_data"
    },
    {
     "name": "stdout",
     "output_type": "stream",
     "text": [
      "\n",
      "Moreover for 'SeniorCitizen' variable we can not distinguish all the info from the plot.\n"
     ]
    }
   ],
   "source": [
    "print(\"Not a good visualization because it groups together all the numerical variables:\\n\")\n",
    "fig1 = numdata.boxplot()\n",
    "plt.show(fig1) # force to show the plot after the print\n",
    "\n",
    "print(\"\\nMoreover for 'SeniorCitizen' variable we can not distinguish all the info from the plot.\")"
   ]
  },
  {
   "cell_type": "code",
   "execution_count": 17,
   "id": "28087363",
   "metadata": {
    "execution": {
     "iopub.execute_input": "2022-05-14T23:04:31.314779Z",
     "iopub.status.busy": "2022-05-14T23:04:31.314049Z",
     "iopub.status.idle": "2022-05-14T23:04:31.639545Z",
     "shell.execute_reply": "2022-05-14T23:04:31.638755Z"
    },
    "papermill": {
     "duration": 0.368774,
     "end_time": "2022-05-14T23:04:31.641601",
     "exception": false,
     "start_time": "2022-05-14T23:04:31.272827",
     "status": "completed"
    },
    "tags": []
   },
   "outputs": [
    {
     "name": "stdout",
     "output_type": "stream",
     "text": [
      "To have a good visualization, we can plot each numerical variable in a single boxplot as follows:\n"
     ]
    },
    {
     "data": {
      "image/png": "[encoded data removed]",
      "text/plain": [
       "<Figure size 1440x288 with 3 Axes>"
      ]
     },
     "metadata": {
      "needs_background": "light"
     },
     "output_type": "display_data"
    }
   ],
   "source": [
    "print(\"To have a good visualization, we can plot each numerical variable in a single boxplot as follows:\")\n",
    "\n",
    "# fig properties\n",
    "row = 1\n",
    "col = 3\n",
    "width = 20\n",
    "height = 4\n",
    "\n",
    "# initialize the figure\n",
    "fig2, axes = plt.subplots(row, col,figsize=(width,height))\n",
    "# fig.tight_layout()\n",
    "# #fig.subplots_adjust(wspace=0.2)\n",
    "\n",
    "for ax,numcol in zip(np.ravel(axes),numdata.columns.tolist()):\n",
    "    numdata.boxplot(column=numcol,ax=ax)\n",
    "\n",
    "plt.show(fig2) # force to show the plot after the print"
   ]
  },
  {
   "cell_type": "markdown",
   "id": "2dec3f29",
   "metadata": {
    "papermill": {
     "duration": 0.040403,
     "end_time": "2022-05-14T23:04:31.727809",
     "exception": false,
     "start_time": "2022-05-14T23:04:31.687406",
     "status": "completed"
    },
    "tags": []
   },
   "source": [
    "## **27. In a new cell show the histograms of the categorical variables in the dataset**\n",
    "* Hint: try to use a function from the Seaborn library which counts the number of time each element appears and makes a related bar plot\n",
    "* Hint: use the subplot function to put all the charts in the same figure\n",
    "* Hint: resize the figure so that to avoid overlapping and enable a clear visualization of all charts"
   ]
  },
  {
   "cell_type": "code",
   "execution_count": 18,
   "id": "2ddcba12",
   "metadata": {
    "execution": {
     "iopub.execute_input": "2022-05-14T23:04:31.810929Z",
     "iopub.status.busy": "2022-05-14T23:04:31.810638Z",
     "iopub.status.idle": "2022-05-14T23:04:33.245564Z",
     "shell.execute_reply": "2022-05-14T23:04:33.244941Z"
    },
    "papermill": {
     "duration": 1.479092,
     "end_time": "2022-05-14T23:04:33.247559",
     "exception": false,
     "start_time": "2022-05-14T23:04:31.768467",
     "status": "completed"
    },
    "tags": []
   },
   "outputs": [
    {
     "data": {
      "image/png": "[encoded data removed]",
      "text/plain": [
       "<Figure size 1296x720 with 16 Axes>"
      ]
     },
     "metadata": {
      "needs_background": "light"
     },
     "output_type": "display_data"
    }
   ],
   "source": [
    "catdata = data.select_dtypes(include=[\"object\"]);\n",
    "\n",
    "# fig properties\n",
    "row = 4\n",
    "col = 4\n",
    "width = 18\n",
    "height = 10\n",
    "\n",
    "fig, axes = plt.subplots(row, col,figsize=(width,height))\n",
    "\n",
    "# Dropping 'costumerID' and 'TotalCharges' variables because makes too hard to plot!\n",
    "categorical_variables = catdata[catdata.columns.difference(['customerID','TotalCharges'])].columns.tolist()\n",
    "\n",
    "for ax,col in zip(axes.flatten(),categorical_variables):\n",
    "    sns.countplot(data=data, x=col,ax=ax)\n",
    "    \n",
    "    # Since for 'PaymentMethod' we have xticklabels which are overlapping    \n",
    "    if col == 'PaymentMethod':\n",
    "        #ax.set_xticklabels(ax.get_xticklabels(), rotation=40, ha=\"right\") # rotate x-tick-labels\n",
    "        wrap_labels(ax, 10) # wrap the words at or before the 10th character\n",
    "\n",
    "fig.tight_layout()\n",
    "\n",
    "plt.show(fig) # force to show the plot after the print"
   ]
  },
  {
   "cell_type": "markdown",
   "id": "03de46cd",
   "metadata": {
    "papermill": {
     "duration": 0.042057,
     "end_time": "2022-05-14T23:04:33.332241",
     "exception": false,
     "start_time": "2022-05-14T23:04:33.290184",
     "status": "completed"
    },
    "tags": []
   },
   "source": [
    "## **28. In a new cell generate a new DataFrame called data1 and containing only variables gender, Partner, MonthlyCharges, Churn**\n",
    "* Hint: you could try also other selections"
   ]
  },
  {
   "cell_type": "code",
   "execution_count": 19,
   "id": "597e6398",
   "metadata": {
    "execution": {
     "iopub.execute_input": "2022-05-14T23:04:33.418667Z",
     "iopub.status.busy": "2022-05-14T23:04:33.418189Z",
     "iopub.status.idle": "2022-05-14T23:04:33.422286Z",
     "shell.execute_reply": "2022-05-14T23:04:33.421763Z"
    },
    "papermill": {
     "duration": 0.049117,
     "end_time": "2022-05-14T23:04:33.423858",
     "exception": false,
     "start_time": "2022-05-14T23:04:33.374741",
     "status": "completed"
    },
    "tags": []
   },
   "outputs": [],
   "source": [
    "#data1 = data[['gender','Partner','MonthlyCharges','Churn']]\n",
    "data1 = pd.DataFrame(data,columns=['gender','Partner','MonthlyCharges','Churn'])"
   ]
  },
  {
   "cell_type": "markdown",
   "id": "27003b76",
   "metadata": {
    "papermill": {
     "duration": 0.041821,
     "end_time": "2022-05-14T23:04:33.508165",
     "exception": false,
     "start_time": "2022-05-14T23:04:33.466344",
     "status": "completed"
    },
    "tags": []
   },
   "source": [
    "## **29. In a new cell show the first 5 rows of the new dataset**"
   ]
  },
  {
   "cell_type": "code",
   "execution_count": 20,
   "id": "1cb284ae",
   "metadata": {
    "execution": {
     "iopub.execute_input": "2022-05-14T23:04:33.594129Z",
     "iopub.status.busy": "2022-05-14T23:04:33.593622Z",
     "iopub.status.idle": "2022-05-14T23:04:33.603350Z",
     "shell.execute_reply": "2022-05-14T23:04:33.602804Z"
    },
    "papermill": {
     "duration": 0.054514,
     "end_time": "2022-05-14T23:04:33.604960",
     "exception": false,
     "start_time": "2022-05-14T23:04:33.550446",
     "status": "completed"
    },
    "tags": []
   },
   "outputs": [
    {
     "data": {
      "text/html": [
       "<div>\n",
       "<style scoped>\n",
       "    .dataframe tbody tr th:only-of-type {\n",
       "        vertical-align: middle;\n",
       "    }\n",
       "\n",
       "    .dataframe tbody tr th {\n",
       "        vertical-align: top;\n",
       "    }\n",
       "\n",
       "    .dataframe thead th {\n",
       "        text-align: right;\n",
       "    }\n",
       "</style>\n",
       "<table border=\"1\" class=\"dataframe\">\n",
       "  <thead>\n",
       "    <tr style=\"text-align: right;\">\n",
       "      <th></th>\n",
       "      <th>gender</th>\n",
       "      <th>Partner</th>\n",
       "      <th>MonthlyCharges</th>\n",
       "      <th>Churn</th>\n",
       "    </tr>\n",
       "  </thead>\n",
       "  <tbody>\n",
       "    <tr>\n",
       "      <th>0</th>\n",
       "      <td>Female</td>\n",
       "      <td>Yes</td>\n",
       "      <td>29.85</td>\n",
       "      <td>No</td>\n",
       "    </tr>\n",
       "    <tr>\n",
       "      <th>1</th>\n",
       "      <td>Male</td>\n",
       "      <td>No</td>\n",
       "      <td>56.95</td>\n",
       "      <td>No</td>\n",
       "    </tr>\n",
       "    <tr>\n",
       "      <th>2</th>\n",
       "      <td>Male</td>\n",
       "      <td>No</td>\n",
       "      <td>53.85</td>\n",
       "      <td>Yes</td>\n",
       "    </tr>\n",
       "    <tr>\n",
       "      <th>3</th>\n",
       "      <td>Male</td>\n",
       "      <td>No</td>\n",
       "      <td>42.30</td>\n",
       "      <td>No</td>\n",
       "    </tr>\n",
       "    <tr>\n",
       "      <th>4</th>\n",
       "      <td>Female</td>\n",
       "      <td>No</td>\n",
       "      <td>70.70</td>\n",
       "      <td>Yes</td>\n",
       "    </tr>\n",
       "  </tbody>\n",
       "</table>\n",
       "</div>"
      ],
      "text/plain": [
       "   gender Partner  MonthlyCharges Churn\n",
       "0  Female     Yes           29.85    No\n",
       "1    Male      No           56.95    No\n",
       "2    Male      No           53.85   Yes\n",
       "3    Male      No           42.30    No\n",
       "4  Female      No           70.70   Yes"
      ]
     },
     "execution_count": 20,
     "metadata": {},
     "output_type": "execute_result"
    }
   ],
   "source": [
    "data1.head(5)"
   ]
  },
  {
   "cell_type": "markdown",
   "id": "68463921",
   "metadata": {
    "papermill": {
     "duration": 0.042411,
     "end_time": "2022-05-14T23:04:33.689976",
     "exception": false,
     "start_time": "2022-05-14T23:04:33.647565",
     "status": "completed"
    },
    "tags": []
   },
   "source": [
    "# **Prepare the data**"
   ]
  },
  {
   "cell_type": "markdown",
   "id": "fc35c390",
   "metadata": {
    "papermill": {
     "duration": 0.042229,
     "end_time": "2022-05-14T23:04:33.774990",
     "exception": false,
     "start_time": "2022-05-14T23:04:33.732761",
     "status": "completed"
    },
    "tags": []
   },
   "source": [
    "## **30. Convert categorical values in data1 to numeric as follows:**\n",
    "* **gender: Male=0, Female=1**\n",
    "* **Partner: No=0, Yes=1**\n",
    "* **Churn: No=0, Yes=1**\n",
    "\n",
    "* Hint: find similar code in the Titanic notebook if needed"
   ]
  },
  {
   "cell_type": "code",
   "execution_count": 21,
   "id": "06aad2aa",
   "metadata": {
    "execution": {
     "iopub.execute_input": "2022-05-14T23:04:33.862412Z",
     "iopub.status.busy": "2022-05-14T23:04:33.861676Z",
     "iopub.status.idle": "2022-05-14T23:04:33.881771Z",
     "shell.execute_reply": "2022-05-14T23:04:33.881183Z"
    },
    "papermill": {
     "duration": 0.065512,
     "end_time": "2022-05-14T23:04:33.883443",
     "exception": false,
     "start_time": "2022-05-14T23:04:33.817931",
     "status": "completed"
    },
    "tags": []
   },
   "outputs": [
    {
     "data": {
      "text/html": [
       "<div>\n",
       "<style scoped>\n",
       "    .dataframe tbody tr th:only-of-type {\n",
       "        vertical-align: middle;\n",
       "    }\n",
       "\n",
       "    .dataframe tbody tr th {\n",
       "        vertical-align: top;\n",
       "    }\n",
       "\n",
       "    .dataframe thead th {\n",
       "        text-align: right;\n",
       "    }\n",
       "</style>\n",
       "<table border=\"1\" class=\"dataframe\">\n",
       "  <thead>\n",
       "    <tr style=\"text-align: right;\">\n",
       "      <th></th>\n",
       "      <th>gender</th>\n",
       "      <th>Partner</th>\n",
       "      <th>Churn</th>\n",
       "    </tr>\n",
       "  </thead>\n",
       "  <tbody>\n",
       "    <tr>\n",
       "      <th>0</th>\n",
       "      <td>Female</td>\n",
       "      <td>Yes</td>\n",
       "      <td>No</td>\n",
       "    </tr>\n",
       "    <tr>\n",
       "      <th>1</th>\n",
       "      <td>Male</td>\n",
       "      <td>No</td>\n",
       "      <td>No</td>\n",
       "    </tr>\n",
       "    <tr>\n",
       "      <th>2</th>\n",
       "      <td>Male</td>\n",
       "      <td>No</td>\n",
       "      <td>Yes</td>\n",
       "    </tr>\n",
       "    <tr>\n",
       "      <th>3</th>\n",
       "      <td>Male</td>\n",
       "      <td>No</td>\n",
       "      <td>No</td>\n",
       "    </tr>\n",
       "    <tr>\n",
       "      <th>4</th>\n",
       "      <td>Female</td>\n",
       "      <td>No</td>\n",
       "      <td>Yes</td>\n",
       "    </tr>\n",
       "  </tbody>\n",
       "</table>\n",
       "</div>"
      ],
      "text/plain": [
       "   gender Partner Churn\n",
       "0  Female     Yes    No\n",
       "1    Male      No    No\n",
       "2    Male      No   Yes\n",
       "3    Male      No    No\n",
       "4  Female      No   Yes"
      ]
     },
     "metadata": {},
     "output_type": "display_data"
    },
    {
     "data": {
      "text/html": [
       "<div>\n",
       "<style scoped>\n",
       "    .dataframe tbody tr th:only-of-type {\n",
       "        vertical-align: middle;\n",
       "    }\n",
       "\n",
       "    .dataframe tbody tr th {\n",
       "        vertical-align: top;\n",
       "    }\n",
       "\n",
       "    .dataframe thead th {\n",
       "        text-align: right;\n",
       "    }\n",
       "</style>\n",
       "<table border=\"1\" class=\"dataframe\">\n",
       "  <thead>\n",
       "    <tr style=\"text-align: right;\">\n",
       "      <th></th>\n",
       "      <th>gender</th>\n",
       "      <th>Partner</th>\n",
       "      <th>Churn</th>\n",
       "    </tr>\n",
       "  </thead>\n",
       "  <tbody>\n",
       "    <tr>\n",
       "      <th>0</th>\n",
       "      <td>1</td>\n",
       "      <td>1</td>\n",
       "      <td>0</td>\n",
       "    </tr>\n",
       "    <tr>\n",
       "      <th>1</th>\n",
       "      <td>0</td>\n",
       "      <td>0</td>\n",
       "      <td>0</td>\n",
       "    </tr>\n",
       "    <tr>\n",
       "      <th>2</th>\n",
       "      <td>0</td>\n",
       "      <td>0</td>\n",
       "      <td>1</td>\n",
       "    </tr>\n",
       "    <tr>\n",
       "      <th>3</th>\n",
       "      <td>0</td>\n",
       "      <td>0</td>\n",
       "      <td>0</td>\n",
       "    </tr>\n",
       "    <tr>\n",
       "      <th>4</th>\n",
       "      <td>1</td>\n",
       "      <td>0</td>\n",
       "      <td>1</td>\n",
       "    </tr>\n",
       "  </tbody>\n",
       "</table>\n",
       "</div>"
      ],
      "text/plain": [
       "   gender  Partner  Churn\n",
       "0       1        1      0\n",
       "1       0        0      0\n",
       "2       0        0      1\n",
       "3       0        0      0\n",
       "4       1        0      1"
      ]
     },
     "metadata": {},
     "output_type": "display_data"
    }
   ],
   "source": [
    "gender_mapping = {'Male': 0, 'Female': 1}\n",
    "mapping = {'No': 0, 'Yes': 1}\n",
    "data1['gender'] = data1['gender'].map(gender_mapping)\n",
    "# data1['gender'] = data1['gender'].astype(int) # it doesn't need to cast\n",
    "data1['Partner'] = data1['Partner'].map(mapping)\n",
    "data1['Churn'] = data1['Churn'].map(mapping)\n",
    "\n",
    "display(data.loc[:,['gender', 'Partner','Churn']].head())\n",
    "display(data1.loc[:,['gender', 'Partner','Churn']].head())"
   ]
  },
  {
   "cell_type": "markdown",
   "id": "30ae0387",
   "metadata": {
    "papermill": {
     "duration": 0.043546,
     "end_time": "2022-05-14T23:04:33.971083",
     "exception": false,
     "start_time": "2022-05-14T23:04:33.927537",
     "status": "completed"
    },
    "tags": []
   },
   "source": [
    "## **31. Generate a separate Series variable called data1Churn for the dependent (churn) variable and drop it from DataFrame data1**\n",
    "* Hint: Series is a data structure defined in Pandas, try to find its documentation page\n",
    "* Hint: each column of a DataFrame is a Series\n",
    "* Hint: learn how to drop columns from a dataset in the Titanoc notebook\n",
    "* What is the difference between data1[[‘Churn’]] and data1[‘Churn’]?\n",
    "* When single square brackets are used with Pandas DataFrame? When double brackets are used instead?"
   ]
  },
  {
   "cell_type": "code",
   "execution_count": 22,
   "id": "5cddd8f7",
   "metadata": {
    "execution": {
     "iopub.execute_input": "2022-05-14T23:04:34.060909Z",
     "iopub.status.busy": "2022-05-14T23:04:34.060165Z",
     "iopub.status.idle": "2022-05-14T23:04:34.064802Z",
     "shell.execute_reply": "2022-05-14T23:04:34.064295Z"
    },
    "papermill": {
     "duration": 0.051134,
     "end_time": "2022-05-14T23:04:34.066389",
     "exception": false,
     "start_time": "2022-05-14T23:04:34.015255",
     "status": "completed"
    },
    "tags": []
   },
   "outputs": [],
   "source": [
    "## Genereate a series variable:\n",
    "data1Churn = data1['Churn']\n",
    "## Dropping \"Churn\" variable from data1\n",
    "# data1 = data1.drop(\"Churn\",axis=1) # don't run this twice!\n",
    "data1 = data1[['gender','Partner','MonthlyCharges']]"
   ]
  },
  {
   "cell_type": "markdown",
   "id": "e5d29c63",
   "metadata": {
    "papermill": {
     "duration": 0.043753,
     "end_time": "2022-05-14T23:04:34.154374",
     "exception": false,
     "start_time": "2022-05-14T23:04:34.110621",
     "status": "completed"
    },
    "tags": []
   },
   "source": [
    "The difference between `data1[[‘Churn’]]` and `data1[‘Churn’]` is that:\n",
    "> `data1[[‘Churn’]]` return a Pandas DataFrame, while `data1[‘Churn’]` returns a Pandas Series.\n",
    "\n",
    "So according to our needs we choose the more appropriate class to use."
   ]
  },
  {
   "cell_type": "markdown",
   "id": "65abfe87",
   "metadata": {
    "papermill": {
     "duration": 0.044172,
     "end_time": "2022-05-14T23:04:34.242353",
     "exception": false,
     "start_time": "2022-05-14T23:04:34.198181",
     "status": "completed"
    },
    "tags": []
   },
   "source": [
    "# **Linear Logistic Regression**"
   ]
  },
  {
   "cell_type": "markdown",
   "id": "366d868b",
   "metadata": {
    "papermill": {
     "duration": 0.043616,
     "end_time": "2022-05-14T23:04:34.329862",
     "exception": false,
     "start_time": "2022-05-14T23:04:34.286246",
     "status": "completed"
    },
    "tags": []
   },
   "source": [
    "## **32. Generate a linear logistic model using data1 as independent variables and data1Churn as dependent variable, then show the model “score”**\n",
    "* Hint: try to find a function for linear logistic model learning in the sklearn library\n",
    "* Hint: find similar code in the Titanic notebook if needed"
   ]
  },
  {
   "cell_type": "code",
   "execution_count": 23,
   "id": "643ee638",
   "metadata": {
    "execution": {
     "iopub.execute_input": "2022-05-14T23:04:34.421307Z",
     "iopub.status.busy": "2022-05-14T23:04:34.420767Z",
     "iopub.status.idle": "2022-05-14T23:04:34.486465Z",
     "shell.execute_reply": "2022-05-14T23:04:34.485640Z"
    },
    "papermill": {
     "duration": 0.116666,
     "end_time": "2022-05-14T23:04:34.491066",
     "exception": false,
     "start_time": "2022-05-14T23:04:34.374400",
     "status": "completed"
    },
    "tags": []
   },
   "outputs": [
    {
     "name": "stdout",
     "output_type": "stream",
     "text": [
      "The score of the Logistic Regression model is:  0.72\n"
     ]
    }
   ],
   "source": [
    "# Logistic Regression\n",
    "\n",
    "logreg = LogisticRegression()\n",
    "logreg.fit(data1, data1Churn)\n",
    "Y_pred = logreg.predict(data1)# test on data1\n",
    "acc_log = round(logreg.score(data1,data1Churn), 2) # R2\n",
    "print(\"The score of the Logistic Regression model is: \",acc_log)"
   ]
  },
  {
   "cell_type": "markdown",
   "id": "424a414b",
   "metadata": {
    "papermill": {
     "duration": 0.056026,
     "end_time": "2022-05-14T23:04:34.637177",
     "exception": false,
     "start_time": "2022-05-14T23:04:34.581151",
     "status": "completed"
    },
    "tags": []
   },
   "source": [
    "## **33. Show the parameters of the linear logistic model computed above. Which variable seems to be more related to customer churn?**\n",
    "* Hint: find similar code in the Titanic notebook if needed"
   ]
  },
  {
   "cell_type": "code",
   "execution_count": 24,
   "id": "7f3b9fd6",
   "metadata": {
    "execution": {
     "iopub.execute_input": "2022-05-14T23:04:34.727777Z",
     "iopub.status.busy": "2022-05-14T23:04:34.727282Z",
     "iopub.status.idle": "2022-05-14T23:04:34.733701Z",
     "shell.execute_reply": "2022-05-14T23:04:34.732727Z"
    },
    "papermill": {
     "duration": 0.054596,
     "end_time": "2022-05-14T23:04:34.736002",
     "exception": false,
     "start_time": "2022-05-14T23:04:34.681406",
     "status": "completed"
    },
    "tags": []
   },
   "outputs": [
    {
     "name": "stdout",
     "output_type": "stream",
     "text": [
      "The intercept is:  -1.8510896831170833 \n",
      "The coefficients of our model are:  [ 0.01730586 -0.83873431  0.01754114]\n"
     ]
    }
   ],
   "source": [
    "logreg.get_params(deep=True)\n",
    "# penalty: Specify the norm of the penalty\n",
    "# for other info see here:\n",
    "# https://scikit-learn.org/stable/modules/generated/sklearn.linear_model.LogisticRegression.html#sklearn.linear_model.LogisticRegression.get_params\n",
    "\n",
    "print(\"The intercept is: \",logreg.intercept_[0],\"\\n\\\n",
    "The coefficients of our model are: \",logreg.coef_[0][:])"
   ]
  },
  {
   "cell_type": "code",
   "execution_count": 25,
   "id": "c324b3bd",
   "metadata": {
    "execution": {
     "iopub.execute_input": "2022-05-14T23:04:34.828086Z",
     "iopub.status.busy": "2022-05-14T23:04:34.827472Z",
     "iopub.status.idle": "2022-05-14T23:04:34.838451Z",
     "shell.execute_reply": "2022-05-14T23:04:34.837946Z"
    },
    "papermill": {
     "duration": 0.058517,
     "end_time": "2022-05-14T23:04:34.840006",
     "exception": false,
     "start_time": "2022-05-14T23:04:34.781489",
     "status": "completed"
    },
    "tags": []
   },
   "outputs": [
    {
     "data": {
      "text/html": [
       "<div>\n",
       "<style scoped>\n",
       "    .dataframe tbody tr th:only-of-type {\n",
       "        vertical-align: middle;\n",
       "    }\n",
       "\n",
       "    .dataframe tbody tr th {\n",
       "        vertical-align: top;\n",
       "    }\n",
       "\n",
       "    .dataframe thead th {\n",
       "        text-align: right;\n",
       "    }\n",
       "</style>\n",
       "<table border=\"1\" class=\"dataframe\">\n",
       "  <thead>\n",
       "    <tr style=\"text-align: right;\">\n",
       "      <th></th>\n",
       "      <th>Feature</th>\n",
       "      <th>Correlation</th>\n",
       "    </tr>\n",
       "  </thead>\n",
       "  <tbody>\n",
       "    <tr>\n",
       "      <th>2</th>\n",
       "      <td>MonthlyCharges</td>\n",
       "      <td>0.017541</td>\n",
       "    </tr>\n",
       "    <tr>\n",
       "      <th>0</th>\n",
       "      <td>gender</td>\n",
       "      <td>0.017306</td>\n",
       "    </tr>\n",
       "    <tr>\n",
       "      <th>1</th>\n",
       "      <td>Partner</td>\n",
       "      <td>-0.838734</td>\n",
       "    </tr>\n",
       "  </tbody>\n",
       "</table>\n",
       "</div>"
      ],
      "text/plain": [
       "          Feature  Correlation\n",
       "2  MonthlyCharges     0.017541\n",
       "0          gender     0.017306\n",
       "1         Partner    -0.838734"
      ]
     },
     "execution_count": 25,
     "metadata": {},
     "output_type": "execute_result"
    }
   ],
   "source": [
    "# Correlation\n",
    "coeff_data1 = pd.DataFrame(data1.columns)\n",
    "coeff_data1.columns = ['Feature']\n",
    "coeff_data1[\"Correlation\"] = pd.Series(logreg.coef_[0])\n",
    "\n",
    "coeff_data1.sort_values(by='Correlation', ascending=False)"
   ]
  },
  {
   "cell_type": "markdown",
   "id": "000dc0f6",
   "metadata": {
    "papermill": {
     "duration": 0.044887,
     "end_time": "2022-05-14T23:04:34.929802",
     "exception": false,
     "start_time": "2022-05-14T23:04:34.884915",
     "status": "completed"
    },
    "tags": []
   },
   "source": [
    "## **34. If you want, click on the Sharing field on the right hand side menu and share the notebook with me (Kaggle user: albertocastellini)**\n",
    "* No score/evaluation will be given, don’t worry :-)"
   ]
  }
 ],
 "metadata": {
  "kernelspec": {
   "display_name": "Python 3",
   "language": "python",
   "name": "python3"
  },
  "language_info": {
   "codemirror_mode": {
    "name": "ipython",
    "version": 3
   },
   "file_extension": ".py",
   "mimetype": "text/x-python",
   "name": "python",
   "nbconvert_exporter": "python",
   "pygments_lexer": "ipython3",
   "version": "3.7.12"
  },
  "papermill": {
   "default_parameters": {},
   "duration": 17.539178,
   "end_time": "2022-05-14T23:04:35.695086",
   "environment_variables": {},
   "exception": null,
   "input_path": "__notebook__.ipynb",
   "output_path": "__notebook__.ipynb",
   "parameters": {},
   "start_time": "2022-05-14T23:04:18.155908",
   "version": "2.3.4"
  }
 },
 "nbformat": 4,
 "nbformat_minor": 5
}
