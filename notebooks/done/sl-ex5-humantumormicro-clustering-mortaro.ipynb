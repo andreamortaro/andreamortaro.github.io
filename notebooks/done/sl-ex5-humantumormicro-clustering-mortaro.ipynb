{
 "cells": [
  {
   "cell_type": "markdown",
   "id": "66ec4ada",
   "metadata": {
    "papermill": {
     "duration": 0.011,
     "end_time": "2022-07-11T08:56:56.101050",
     "exception": false,
     "start_time": "2022-07-11T08:56:56.090050",
     "status": "completed"
    },
    "tags": []
   },
   "source": [
    "## **Statistical Learning – Data science - 2021/22 – Exercise 5 – 24/05/2022**\n",
    "# **Exercise 5: Analysis of Human Tumor Microarray dataset - unsupervised learning, clustering with k-means**"
   ]
  },
  {
   "cell_type": "code",
   "execution_count": 1,
   "id": "ebfd6575",
   "metadata": {
    "_cell_guid": "b1076dfc-b9ad-4769-8c92-a6c4dae69d19",
    "_uuid": "8f2839f25d086af736a60e9eeb907d3b93b6e0e5",
    "execution": {
     "iopub.execute_input": "2022-07-11T08:56:56.118091Z",
     "iopub.status.busy": "2022-07-11T08:56:56.117631Z",
     "iopub.status.idle": "2022-07-11T08:56:57.616940Z",
     "shell.execute_reply": "2022-07-11T08:56:57.615779Z"
    },
    "papermill": {
     "duration": 1.511746,
     "end_time": "2022-07-11T08:56:57.620526",
     "exception": false,
     "start_time": "2022-07-11T08:56:56.108780",
     "status": "completed"
    },
    "tags": []
   },
   "outputs": [
    {
     "name": "stdout",
     "output_type": "stream",
     "text": [
      "/kaggle/input/14cancer/chart.png\n",
      "/kaggle/input/14cancer/14cancer.ytrain.txt\n",
      "/kaggle/input/14cancer/14cancer.xtrain.txt\n",
      "/kaggle/input/14cancer/chart2.png\n"
     ]
    }
   ],
   "source": [
    "# data analysis and wrangling\n",
    "import numpy as np # linear algebra\n",
    "import pandas as pd # data processing, CSV file I/O (e.g. pd.read_csv)\n",
    "# import random as rnd\n",
    "\n",
    "# visualization\n",
    "import seaborn as sns\n",
    "import matplotlib.pyplot as plt\n",
    "# %matplotlib inline\n",
    "\n",
    "# machine learning\n",
    "from sklearn.cluster import KMeans\n",
    "from sklearn.cluster import MiniBatchKMeans\n",
    "\n",
    "from IPython.display import Image # to visualize images\n",
    "from tabulate import tabulate # to create tables\n",
    "\n",
    "import os\n",
    "for dirname, _, filenames in os.walk('/kaggle/input'):\n",
    "    for filename in filenames:\n",
    "        print(os.path.join(dirname, filename))"
   ]
  },
  {
   "cell_type": "markdown",
   "id": "dc60ed0b",
   "metadata": {
    "papermill": {
     "duration": 0.008039,
     "end_time": "2022-07-11T08:56:57.637183",
     "exception": false,
     "start_time": "2022-07-11T08:56:57.629144",
     "status": "completed"
    },
    "tags": []
   },
   "source": [
    "## **1. Download the “14-cancer microarray data” from the [book website](https://web.stanford.edu/~hastie/ElemStatLearn/)**\n",
    "* Get information about the dataset in file 14cancer.info and in Chapter 1 (page 5) of the book (Hastie et al., 2009)"
   ]
  },
  {
   "cell_type": "markdown",
   "id": "cb9f8c75",
   "metadata": {
    "papermill": {
     "duration": 0.007915,
     "end_time": "2022-07-11T08:56:57.653016",
     "exception": false,
     "start_time": "2022-07-11T08:56:57.645101",
     "status": "completed"
    },
    "tags": []
   },
   "source": [
    "Some info about `14cancer.xtrain.txt` and `14cancer.ytrain.txt`.\n",
    "\n",
    "* DNA microarrays measure the expression of genes in a cell\n",
    "\n",
    "* 14-cancer gene expression data set:\n",
    "    * 16064 genes\n",
    "    * 144 training samples\n",
    "    * 54 test samples\n",
    "\n",
    "* One gene per row, one sample per column.\n",
    "\n",
    "* Cancer classes are labelled as follows:\n",
    "    1.  breast\n",
    "    2.  prostate\n",
    "    3.  lung\n",
    "    4.  collerectal\n",
    "    5.  lymphoma\n",
    "    6.  bladder\n",
    "    7.  melanoma\n",
    "    8.  uterus\n",
    "    9.  leukemia\n",
    "    10. renal\n",
    "    11. pancreas\n",
    "    12. ovary\n",
    "    13. meso\n",
    "    14. cns"
   ]
  },
  {
   "cell_type": "markdown",
   "id": "7813d60c",
   "metadata": {
    "papermill": {
     "duration": 0.007714,
     "end_time": "2022-07-11T08:56:57.668991",
     "exception": false,
     "start_time": "2022-07-11T08:56:57.661277",
     "status": "completed"
    },
    "tags": []
   },
   "source": [
    "## **2. Generate a new Kernel SLDatascience_EX5_HumanTumorMicro_Clustering_Surname in Kaggle**\n",
    "> <h2>✅</h2>\n",
    "\n",
    "## **3. Load the data in Kaggle**\n",
    "> <h2>✅</h2>"
   ]
  },
  {
   "cell_type": "markdown",
   "id": "24aec07a",
   "metadata": {
    "papermill": {
     "duration": 0.007606,
     "end_time": "2022-07-11T08:56:57.684204",
     "exception": false,
     "start_time": "2022-07-11T08:56:57.676598",
     "status": "completed"
    },
    "tags": []
   },
   "source": [
    "# **Data acquisition**"
   ]
  },
  {
   "cell_type": "code",
   "execution_count": 2,
   "id": "2b0149d8",
   "metadata": {
    "execution": {
     "iopub.execute_input": "2022-07-11T08:56:57.701468Z",
     "iopub.status.busy": "2022-07-11T08:56:57.701103Z",
     "iopub.status.idle": "2022-07-11T08:56:58.328065Z",
     "shell.execute_reply": "2022-07-11T08:56:58.327283Z"
    },
    "papermill": {
     "duration": 0.638164,
     "end_time": "2022-07-11T08:56:58.330227",
     "exception": false,
     "start_time": "2022-07-11T08:56:57.692063",
     "status": "completed"
    },
    "tags": []
   },
   "outputs": [],
   "source": [
    "# Load the Cancer Microarray dataset (already splitted in train and test)\n",
    "xtrain = pd.read_csv('/kaggle/input/14cancer/14cancer.xtrain.txt', sep='\\s+',header=None)\n",
    "ytrain = pd.read_csv('/kaggle/input/14cancer/14cancer.ytrain.txt',sep='\\s+',header=None)"
   ]
  },
  {
   "cell_type": "markdown",
   "id": "413c7fee",
   "metadata": {
    "papermill": {
     "duration": 0.007365,
     "end_time": "2022-07-11T08:56:58.344991",
     "exception": false,
     "start_time": "2022-07-11T08:56:58.337626",
     "status": "completed"
    },
    "tags": []
   },
   "source": [
    "<div class=\"alert alert-warning\" role=\"alert\">\n",
    "    <div class=\"row vertical-align\">\n",
    "        <div class=\"col-xs-1 text-center\">\n",
    "            <i class=\"fa fa-exclamation-triangle fa-2x\"></i>\n",
    "        </div>\n",
    "        <div class=\"col-xs-11\">\n",
    "                <strong>\n",
    "                    Warning 1: the dataset is already splitted in training set and test set.\n",
    "            </strong>\n",
    "        </div>   \n",
    "    </div> \n",
    "</div>"
   ]
  },
  {
   "cell_type": "markdown",
   "id": "bd5e9c1f",
   "metadata": {
    "papermill": {
     "duration": 0.007379,
     "end_time": "2022-07-11T08:56:58.360117",
     "exception": false,
     "start_time": "2022-07-11T08:56:58.352738",
     "status": "completed"
    },
    "tags": []
   },
   "source": [
    "# **Data pre-processing**"
   ]
  },
  {
   "cell_type": "code",
   "execution_count": 3,
   "id": "94ec2f04",
   "metadata": {
    "execution": {
     "iopub.execute_input": "2022-07-11T08:56:58.377008Z",
     "iopub.status.busy": "2022-07-11T08:56:58.376350Z",
     "iopub.status.idle": "2022-07-11T08:56:58.395000Z",
     "shell.execute_reply": "2022-07-11T08:56:58.394066Z"
    },
    "papermill": {
     "duration": 0.029395,
     "end_time": "2022-07-11T08:56:58.396936",
     "exception": false,
     "start_time": "2022-07-11T08:56:58.367541",
     "status": "completed"
    },
    "tags": []
   },
   "outputs": [
    {
     "name": "stdout",
     "output_type": "stream",
     "text": [
      "#genes: 16063, #samples: 144, #labels 14\n"
     ]
    }
   ],
   "source": [
    "xtrain = xtrain.transpose() # The columns represent the genes, and the rows are the different samples\n",
    "ytrain = ytrain.transpose() # for each sample I have a label\n",
    "\n",
    "(n_samples, n_genes), n_labels = xtrain.shape, np.unique(ytrain).size\n",
    "print(f\"#genes: {n_genes}, #samples: {n_samples}, #labels {n_labels}\")"
   ]
  },
  {
   "cell_type": "markdown",
   "id": "267ada11",
   "metadata": {
    "papermill": {
     "duration": 0.007547,
     "end_time": "2022-07-11T08:56:58.411911",
     "exception": false,
     "start_time": "2022-07-11T08:56:58.404364",
     "status": "completed"
    },
    "tags": []
   },
   "source": [
    "<div class=\"alert alert-warning\" role=\"alert\">\n",
    "    <div class=\"row vertical-align\">\n",
    "        <div class=\"col-xs-1 text-center\">\n",
    "            <i class=\"fa fa-exclamation-triangle fa-2x\"></i>\n",
    "        </div>\n",
    "        <div class=\"col-xs-11\">\n",
    "                <strong>            \n",
    "                Warning 2: I don't standardize the data before to perform clustering, in order to do not loose the natural properties of my dataset.\n",
    "            </strong>\n",
    "        </div>   \n",
    "    </div> \n",
    "</div>"
   ]
  },
  {
   "cell_type": "code",
   "execution_count": 4,
   "id": "e31f2818",
   "metadata": {
    "execution": {
     "iopub.execute_input": "2022-07-11T08:56:58.428988Z",
     "iopub.status.busy": "2022-07-11T08:56:58.428578Z",
     "iopub.status.idle": "2022-07-11T08:56:58.480265Z",
     "shell.execute_reply": "2022-07-11T08:56:58.479577Z"
    },
    "papermill": {
     "duration": 0.062841,
     "end_time": "2022-07-11T08:56:58.482213",
     "exception": false,
     "start_time": "2022-07-11T08:56:58.419372",
     "status": "completed"
    },
    "tags": []
   },
   "outputs": [
    {
     "data": {
      "text/html": [
       "<div>\n",
       "<style scoped>\n",
       "    .dataframe tbody tr th:only-of-type {\n",
       "        vertical-align: middle;\n",
       "    }\n",
       "\n",
       "    .dataframe tbody tr th {\n",
       "        vertical-align: top;\n",
       "    }\n",
       "\n",
       "    .dataframe thead th {\n",
       "        text-align: right;\n",
       "    }\n",
       "</style>\n",
       "<table border=\"1\" class=\"dataframe\">\n",
       "  <thead>\n",
       "    <tr style=\"text-align: right;\">\n",
       "      <th></th>\n",
       "      <th>0</th>\n",
       "      <th>1</th>\n",
       "      <th>2</th>\n",
       "      <th>3</th>\n",
       "      <th>4</th>\n",
       "      <th>5</th>\n",
       "      <th>6</th>\n",
       "      <th>7</th>\n",
       "      <th>8</th>\n",
       "      <th>9</th>\n",
       "      <th>...</th>\n",
       "      <th>16053</th>\n",
       "      <th>16054</th>\n",
       "      <th>16055</th>\n",
       "      <th>16056</th>\n",
       "      <th>16057</th>\n",
       "      <th>16058</th>\n",
       "      <th>16059</th>\n",
       "      <th>16060</th>\n",
       "      <th>16061</th>\n",
       "      <th>16062</th>\n",
       "    </tr>\n",
       "  </thead>\n",
       "  <tbody>\n",
       "    <tr>\n",
       "      <th>0</th>\n",
       "      <td>-73.0</td>\n",
       "      <td>-69.0</td>\n",
       "      <td>-48.0</td>\n",
       "      <td>13.0</td>\n",
       "      <td>-86.0</td>\n",
       "      <td>-147.0</td>\n",
       "      <td>-65.0</td>\n",
       "      <td>-71.0</td>\n",
       "      <td>-32.0</td>\n",
       "      <td>100.0</td>\n",
       "      <td>...</td>\n",
       "      <td>-134.0</td>\n",
       "      <td>352.0</td>\n",
       "      <td>-67.0</td>\n",
       "      <td>121.0</td>\n",
       "      <td>-5.0</td>\n",
       "      <td>-11.0</td>\n",
       "      <td>-21.0</td>\n",
       "      <td>-41.0</td>\n",
       "      <td>-967.0</td>\n",
       "      <td>-120.0</td>\n",
       "    </tr>\n",
       "    <tr>\n",
       "      <th>1</th>\n",
       "      <td>-16.0</td>\n",
       "      <td>-63.0</td>\n",
       "      <td>-97.0</td>\n",
       "      <td>-42.0</td>\n",
       "      <td>-91.0</td>\n",
       "      <td>-164.0</td>\n",
       "      <td>-53.0</td>\n",
       "      <td>-77.0</td>\n",
       "      <td>-17.0</td>\n",
       "      <td>122.0</td>\n",
       "      <td>...</td>\n",
       "      <td>-51.0</td>\n",
       "      <td>244.0</td>\n",
       "      <td>-15.0</td>\n",
       "      <td>119.0</td>\n",
       "      <td>-32.0</td>\n",
       "      <td>4.0</td>\n",
       "      <td>-14.0</td>\n",
       "      <td>-28.0</td>\n",
       "      <td>-205.0</td>\n",
       "      <td>-31.0</td>\n",
       "    </tr>\n",
       "    <tr>\n",
       "      <th>2</th>\n",
       "      <td>4.0</td>\n",
       "      <td>-45.0</td>\n",
       "      <td>-112.0</td>\n",
       "      <td>-25.0</td>\n",
       "      <td>-85.0</td>\n",
       "      <td>-127.0</td>\n",
       "      <td>56.0</td>\n",
       "      <td>-110.0</td>\n",
       "      <td>81.0</td>\n",
       "      <td>41.0</td>\n",
       "      <td>...</td>\n",
       "      <td>14.0</td>\n",
       "      <td>163.0</td>\n",
       "      <td>-14.0</td>\n",
       "      <td>7.0</td>\n",
       "      <td>15.0</td>\n",
       "      <td>-8.0</td>\n",
       "      <td>-104.0</td>\n",
       "      <td>-36.0</td>\n",
       "      <td>-245.0</td>\n",
       "      <td>34.0</td>\n",
       "    </tr>\n",
       "    <tr>\n",
       "      <th>3</th>\n",
       "      <td>-31.0</td>\n",
       "      <td>-110.0</td>\n",
       "      <td>-20.0</td>\n",
       "      <td>-50.0</td>\n",
       "      <td>-115.0</td>\n",
       "      <td>-113.0</td>\n",
       "      <td>-17.0</td>\n",
       "      <td>-40.0</td>\n",
       "      <td>-17.0</td>\n",
       "      <td>80.0</td>\n",
       "      <td>...</td>\n",
       "      <td>26.0</td>\n",
       "      <td>625.0</td>\n",
       "      <td>18.0</td>\n",
       "      <td>59.0</td>\n",
       "      <td>-10.0</td>\n",
       "      <td>32.0</td>\n",
       "      <td>-2.0</td>\n",
       "      <td>10.0</td>\n",
       "      <td>-495.0</td>\n",
       "      <td>-37.0</td>\n",
       "    </tr>\n",
       "    <tr>\n",
       "      <th>4</th>\n",
       "      <td>-33.0</td>\n",
       "      <td>-39.0</td>\n",
       "      <td>-45.0</td>\n",
       "      <td>14.0</td>\n",
       "      <td>-56.0</td>\n",
       "      <td>-106.0</td>\n",
       "      <td>73.0</td>\n",
       "      <td>-34.0</td>\n",
       "      <td>18.0</td>\n",
       "      <td>64.0</td>\n",
       "      <td>...</td>\n",
       "      <td>-69.0</td>\n",
       "      <td>398.0</td>\n",
       "      <td>38.0</td>\n",
       "      <td>215.0</td>\n",
       "      <td>-2.0</td>\n",
       "      <td>44.0</td>\n",
       "      <td>3.0</td>\n",
       "      <td>68.0</td>\n",
       "      <td>-293.0</td>\n",
       "      <td>-34.0</td>\n",
       "    </tr>\n",
       "    <tr>\n",
       "      <th>...</th>\n",
       "      <td>...</td>\n",
       "      <td>...</td>\n",
       "      <td>...</td>\n",
       "      <td>...</td>\n",
       "      <td>...</td>\n",
       "      <td>...</td>\n",
       "      <td>...</td>\n",
       "      <td>...</td>\n",
       "      <td>...</td>\n",
       "      <td>...</td>\n",
       "      <td>...</td>\n",
       "      <td>...</td>\n",
       "      <td>...</td>\n",
       "      <td>...</td>\n",
       "      <td>...</td>\n",
       "      <td>...</td>\n",
       "      <td>...</td>\n",
       "      <td>...</td>\n",
       "      <td>...</td>\n",
       "      <td>...</td>\n",
       "      <td>...</td>\n",
       "    </tr>\n",
       "    <tr>\n",
       "      <th>139</th>\n",
       "      <td>-196.0</td>\n",
       "      <td>-369.0</td>\n",
       "      <td>-263.0</td>\n",
       "      <td>162.0</td>\n",
       "      <td>-277.0</td>\n",
       "      <td>-615.0</td>\n",
       "      <td>-397.0</td>\n",
       "      <td>-243.0</td>\n",
       "      <td>70.0</td>\n",
       "      <td>-167.0</td>\n",
       "      <td>...</td>\n",
       "      <td>-25.0</td>\n",
       "      <td>2674.0</td>\n",
       "      <td>171.0</td>\n",
       "      <td>1499.0</td>\n",
       "      <td>95.0</td>\n",
       "      <td>735.0</td>\n",
       "      <td>-12.0</td>\n",
       "      <td>647.0</td>\n",
       "      <td>-2414.0</td>\n",
       "      <td>-33.0</td>\n",
       "    </tr>\n",
       "    <tr>\n",
       "      <th>140</th>\n",
       "      <td>34.0</td>\n",
       "      <td>-81.0</td>\n",
       "      <td>-146.0</td>\n",
       "      <td>-151.0</td>\n",
       "      <td>-174.0</td>\n",
       "      <td>-121.0</td>\n",
       "      <td>-290.0</td>\n",
       "      <td>-106.0</td>\n",
       "      <td>43.0</td>\n",
       "      <td>240.0</td>\n",
       "      <td>...</td>\n",
       "      <td>-32.0</td>\n",
       "      <td>226.0</td>\n",
       "      <td>189.0</td>\n",
       "      <td>310.0</td>\n",
       "      <td>-13.0</td>\n",
       "      <td>210.0</td>\n",
       "      <td>-22.0</td>\n",
       "      <td>622.0</td>\n",
       "      <td>-889.0</td>\n",
       "      <td>-104.0</td>\n",
       "    </tr>\n",
       "    <tr>\n",
       "      <th>141</th>\n",
       "      <td>-56.0</td>\n",
       "      <td>-818.0</td>\n",
       "      <td>-1338.0</td>\n",
       "      <td>-57.0</td>\n",
       "      <td>-989.0</td>\n",
       "      <td>-796.0</td>\n",
       "      <td>-1466.0</td>\n",
       "      <td>-347.0</td>\n",
       "      <td>-413.0</td>\n",
       "      <td>103.0</td>\n",
       "      <td>...</td>\n",
       "      <td>-85.0</td>\n",
       "      <td>1827.0</td>\n",
       "      <td>581.0</td>\n",
       "      <td>1547.0</td>\n",
       "      <td>-72.0</td>\n",
       "      <td>999.0</td>\n",
       "      <td>-461.0</td>\n",
       "      <td>564.0</td>\n",
       "      <td>-3567.0</td>\n",
       "      <td>-192.0</td>\n",
       "    </tr>\n",
       "    <tr>\n",
       "      <th>142</th>\n",
       "      <td>-245.0</td>\n",
       "      <td>-235.0</td>\n",
       "      <td>-127.0</td>\n",
       "      <td>197.0</td>\n",
       "      <td>-562.0</td>\n",
       "      <td>-714.0</td>\n",
       "      <td>-1621.0</td>\n",
       "      <td>-226.0</td>\n",
       "      <td>-35.0</td>\n",
       "      <td>-243.0</td>\n",
       "      <td>...</td>\n",
       "      <td>-419.0</td>\n",
       "      <td>580.0</td>\n",
       "      <td>233.0</td>\n",
       "      <td>1065.0</td>\n",
       "      <td>-71.0</td>\n",
       "      <td>397.0</td>\n",
       "      <td>-28.0</td>\n",
       "      <td>114.0</td>\n",
       "      <td>-3086.0</td>\n",
       "      <td>-16.0</td>\n",
       "    </tr>\n",
       "    <tr>\n",
       "      <th>143</th>\n",
       "      <td>-26.0</td>\n",
       "      <td>-1595.0</td>\n",
       "      <td>-2085.0</td>\n",
       "      <td>-334.0</td>\n",
       "      <td>-455.0</td>\n",
       "      <td>-354.0</td>\n",
       "      <td>-482.0</td>\n",
       "      <td>196.0</td>\n",
       "      <td>114.0</td>\n",
       "      <td>45.0</td>\n",
       "      <td>...</td>\n",
       "      <td>-243.0</td>\n",
       "      <td>526.0</td>\n",
       "      <td>126.0</td>\n",
       "      <td>320.0</td>\n",
       "      <td>-30.0</td>\n",
       "      <td>308.0</td>\n",
       "      <td>-179.0</td>\n",
       "      <td>121.0</td>\n",
       "      <td>-1878.0</td>\n",
       "      <td>-357.0</td>\n",
       "    </tr>\n",
       "  </tbody>\n",
       "</table>\n",
       "<p>144 rows × 16063 columns</p>\n",
       "</div>"
      ],
      "text/plain": [
       "     0       1       2      3      4      5       6      7      8      9      \\\n",
       "0    -73.0   -69.0   -48.0   13.0  -86.0 -147.0   -65.0  -71.0  -32.0  100.0   \n",
       "1    -16.0   -63.0   -97.0  -42.0  -91.0 -164.0   -53.0  -77.0  -17.0  122.0   \n",
       "2      4.0   -45.0  -112.0  -25.0  -85.0 -127.0    56.0 -110.0   81.0   41.0   \n",
       "3    -31.0  -110.0   -20.0  -50.0 -115.0 -113.0   -17.0  -40.0  -17.0   80.0   \n",
       "4    -33.0   -39.0   -45.0   14.0  -56.0 -106.0    73.0  -34.0   18.0   64.0   \n",
       "..     ...     ...     ...    ...    ...    ...     ...    ...    ...    ...   \n",
       "139 -196.0  -369.0  -263.0  162.0 -277.0 -615.0  -397.0 -243.0   70.0 -167.0   \n",
       "140   34.0   -81.0  -146.0 -151.0 -174.0 -121.0  -290.0 -106.0   43.0  240.0   \n",
       "141  -56.0  -818.0 -1338.0  -57.0 -989.0 -796.0 -1466.0 -347.0 -413.0  103.0   \n",
       "142 -245.0  -235.0  -127.0  197.0 -562.0 -714.0 -1621.0 -226.0  -35.0 -243.0   \n",
       "143  -26.0 -1595.0 -2085.0 -334.0 -455.0 -354.0  -482.0  196.0  114.0   45.0   \n",
       "\n",
       "     ...  16053   16054  16055   16056  16057  16058  16059  16060   16061  \\\n",
       "0    ... -134.0   352.0  -67.0   121.0   -5.0  -11.0  -21.0  -41.0  -967.0   \n",
       "1    ...  -51.0   244.0  -15.0   119.0  -32.0    4.0  -14.0  -28.0  -205.0   \n",
       "2    ...   14.0   163.0  -14.0     7.0   15.0   -8.0 -104.0  -36.0  -245.0   \n",
       "3    ...   26.0   625.0   18.0    59.0  -10.0   32.0   -2.0   10.0  -495.0   \n",
       "4    ...  -69.0   398.0   38.0   215.0   -2.0   44.0    3.0   68.0  -293.0   \n",
       "..   ...    ...     ...    ...     ...    ...    ...    ...    ...     ...   \n",
       "139  ...  -25.0  2674.0  171.0  1499.0   95.0  735.0  -12.0  647.0 -2414.0   \n",
       "140  ...  -32.0   226.0  189.0   310.0  -13.0  210.0  -22.0  622.0  -889.0   \n",
       "141  ...  -85.0  1827.0  581.0  1547.0  -72.0  999.0 -461.0  564.0 -3567.0   \n",
       "142  ... -419.0   580.0  233.0  1065.0  -71.0  397.0  -28.0  114.0 -3086.0   \n",
       "143  ... -243.0   526.0  126.0   320.0  -30.0  308.0 -179.0  121.0 -1878.0   \n",
       "\n",
       "     16062  \n",
       "0   -120.0  \n",
       "1    -31.0  \n",
       "2     34.0  \n",
       "3    -37.0  \n",
       "4    -34.0  \n",
       "..     ...  \n",
       "139  -33.0  \n",
       "140 -104.0  \n",
       "141 -192.0  \n",
       "142  -16.0  \n",
       "143 -357.0  \n",
       "\n",
       "[144 rows x 16063 columns]"
      ]
     },
     "execution_count": 4,
     "metadata": {},
     "output_type": "execute_result"
    }
   ],
   "source": [
    "xtrain"
   ]
  },
  {
   "cell_type": "markdown",
   "id": "70eebf4a",
   "metadata": {
    "papermill": {
     "duration": 0.007986,
     "end_time": "2022-07-11T08:56:58.498328",
     "exception": false,
     "start_time": "2022-07-11T08:56:58.490342",
     "status": "completed"
    },
    "tags": []
   },
   "source": [
    "## **Clustering Analysis**"
   ]
  },
  {
   "cell_type": "markdown",
   "id": "ecc83192",
   "metadata": {
    "papermill": {
     "duration": 0.007704,
     "end_time": "2022-07-11T08:56:58.513916",
     "exception": false,
     "start_time": "2022-07-11T08:56:58.506212",
     "status": "completed"
    },
    "tags": []
   },
   "source": [
    "## **4. Use the `sklearn.cluster` module to perform clustering analysis on the dataset. In particular, repeat the analysis proposed in section 14.3.8 of the book (Hastie et al., 2009)**\n",
    "\n",
    "* Start using **`K-means`** and then test some **other clustering algorithms** at your choice\n",
    "* Cluster the samples (i.e., columns). Each sample has a label (tumor type)\n",
    "* **Do not use the labels in the clustering phase** but examine them posthoc to interpret the clusters\n",
    "* Run k-means with K from **2 to 10** and compare the clusterings in terms of within-sum of squares\n",
    "* Show the chart of the performance depending on K\n",
    "* Select some K and analyze the clusters as done in the book"
   ]
  },
  {
   "cell_type": "markdown",
   "id": "b20750d5",
   "metadata": {
    "papermill": {
     "duration": 0.007828,
     "end_time": "2022-07-11T08:56:58.529642",
     "exception": false,
     "start_time": "2022-07-11T08:56:58.521814",
     "status": "completed"
    },
    "tags": []
   },
   "source": [
    "### **K-Means**\n",
    "The **KMeans algorithm** clusters data by trying to separate samples in n groups of equal variance, minimizing a criterion known as the **inertia** or **within-cluster sum-of-squares**.\n",
    "\n",
    "The k-means algorithm divides a set of samples into disjoint clusters, each described by the mean of the samples in the cluster. The means are commonly called the cluster “*centroids*”; note that they are not, in general, points from, although they live in the same space.\n",
    "\n",
    "The K-means algorithm aims to choose centroids that minimise the inertia, or within-cluster sum-of-squares criterion:\n",
    "$$\\sum_{i=0}^{n}\\min_{\\mu_j \\in C}(||x_i - \\mu_j||^2)$$"
   ]
  },
  {
   "cell_type": "code",
   "execution_count": 5,
   "id": "09e52b1d",
   "metadata": {
    "execution": {
     "iopub.execute_input": "2022-07-11T08:56:58.547610Z",
     "iopub.status.busy": "2022-07-11T08:56:58.546935Z",
     "iopub.status.idle": "2022-07-11T08:57:11.884756Z",
     "shell.execute_reply": "2022-07-11T08:57:11.884053Z"
    },
    "papermill": {
     "duration": 13.349659,
     "end_time": "2022-07-11T08:57:11.887173",
     "exception": false,
     "start_time": "2022-07-11T08:56:58.537514",
     "status": "completed"
    },
    "tags": []
   },
   "outputs": [
    {
     "name": "stdout",
     "output_type": "stream",
     "text": [
      "k\tInertia\t\t\tdecrease %\n",
      "--------------------------------------------------\n",
      "2\t866070488704.476074\t0.000000\n",
      "3\t728215342983.054443\t-18.930547\n",
      "4\t637161384023.146240\t-14.290565\n",
      "5\t582083545997.503784\t-9.462188\n",
      "6\t541930944964.784607\t-7.409173\n",
      "7\t501565429046.019531\t-8.047906\n",
      "8\t485493839665.857422\t-3.310359\n",
      "9\t466074602868.980408\t-4.166551\n",
      "10\t444072405139.717773\t-4.954642\n"
     ]
    }
   ],
   "source": [
    "# K-means with k from 2 to 10\n",
    "\n",
    "n_clusters = range(2,11)\n",
    "alg = 'k-means++' # Method for initialization\n",
    "niter = 10 # Number of time the k-means algorithm will be run with different centroid seeds.\n",
    "wc_km_sos=[] # within_cluster_km_sos\n",
    "\n",
    "print('k\\tInertia\\t\\t\\tdecrease %')\n",
    "print(50 * '-')\n",
    "formatter_result = (\"{:d}\\t{:f}\\t{:f}\")\n",
    "\n",
    "for k in n_clusters:\n",
    "    \n",
    "    results = []\n",
    "    results.append(k)\n",
    "    \n",
    "    km = KMeans(init=alg, n_clusters=k, n_init=niter).fit(xtrain)\n",
    "    \n",
    "    # inertia = Sum of squared distances of samples to their closest cluster center  \n",
    "    wcv = km.inertia_\n",
    "    wc_km_sos.append(wcv)\n",
    "    results.append(wcv)\n",
    "    \n",
    "    # variations in %\n",
    "    if len(wc_km_sos)>1:\n",
    "        results.append(\n",
    "            (wc_km_sos[k-2] - wc_km_sos[k-3])*100/wc_km_sos[k-2]\n",
    "        )\n",
    "    else:\n",
    "        results.append(0)\n",
    "        \n",
    "    print(formatter_result.format(*results))    "
   ]
  },
  {
   "cell_type": "code",
   "execution_count": 6,
   "id": "1377a6a7",
   "metadata": {
    "execution": {
     "iopub.execute_input": "2022-07-11T08:57:11.939795Z",
     "iopub.status.busy": "2022-07-11T08:57:11.939305Z",
     "iopub.status.idle": "2022-07-11T08:57:12.129362Z",
     "shell.execute_reply": "2022-07-11T08:57:12.128242Z"
    },
    "papermill": {
     "duration": 0.232103,
     "end_time": "2022-07-11T08:57:12.131727",
     "exception": false,
     "start_time": "2022-07-11T08:57:11.899624",
     "status": "completed"
    },
    "tags": []
   },
   "outputs": [
    {
     "data": {
      "image/png": "[encoded data removed]",
      "text/plain": [
       "<Figure size 576x288 with 1 Axes>"
      ]
     },
     "metadata": {
      "needs_background": "light"
     },
     "output_type": "display_data"
    }
   ],
   "source": [
    "# fig \n",
    "width, height = 8, 4\n",
    "fig, ax = plt.subplots(figsize=(width,height))\n",
    "\n",
    "ax.plot(n_clusters, wc_km_sos,  marker='o', color=\"darkblue\")\n",
    "ax.grid(color='grey', linestyle='-', linewidth=0.5);\n",
    "#ax.yaxis.set_major_formatter(FormatStrFormatter('%.f'))\n",
    "\n",
    "ax.set_xlabel(\"Number of Clusters K\", fontsize=12)\n",
    "ax.set_ylabel(\"within-cluster sum of squares\", fontsize=12)\n",
    "\n",
    "plt.suptitle(\"Total within-cluster sum of squares\\n for K-means clustering\",fontsize=20)\n",
    "plt.subplots_adjust(top=0.825) # change title position\n",
    "\n",
    "plt.show()"
   ]
  },
  {
   "cell_type": "code",
   "execution_count": 7,
   "id": "2f6bd024",
   "metadata": {
    "execution": {
     "iopub.execute_input": "2022-07-11T08:57:12.153475Z",
     "iopub.status.busy": "2022-07-11T08:57:12.153100Z",
     "iopub.status.idle": "2022-07-11T08:57:12.168478Z",
     "shell.execute_reply": "2022-07-11T08:57:12.167562Z"
    },
    "papermill": {
     "duration": 0.029061,
     "end_time": "2022-07-11T08:57:12.170629",
     "exception": false,
     "start_time": "2022-07-11T08:57:12.141568",
     "status": "completed"
    },
    "tags": []
   },
   "outputs": [
    {
     "data": {
      "image/png": "[encoded data removed]",
      "text/plain": [
       "<IPython.core.display.Image object>"
      ]
     },
     "execution_count": 7,
     "metadata": {
      "image/png": {
       "height": 320,
       "width": 640
      }
     },
     "output_type": "execute_result"
    }
   ],
   "source": [
    "# We can compare the above chart with the one in the book:\n",
    "scale = 80\n",
    "Image(\"../input/14cancer/chart.png\", width = width*scale, height = height*scale)"
   ]
  },
  {
   "cell_type": "markdown",
   "id": "e6374416",
   "metadata": {
    "papermill": {
     "duration": 0.010045,
     "end_time": "2022-07-11T08:57:12.191326",
     "exception": false,
     "start_time": "2022-07-11T08:57:12.181281",
     "status": "completed"
    },
    "tags": []
   },
   "source": [
    "### **Comparison between different method of initialization: `k-means` vs `random`**"
   ]
  },
  {
   "cell_type": "code",
   "execution_count": 8,
   "id": "41b379d4",
   "metadata": {
    "execution": {
     "iopub.execute_input": "2022-07-11T08:57:12.213671Z",
     "iopub.status.busy": "2022-07-11T08:57:12.213308Z",
     "iopub.status.idle": "2022-07-11T08:57:32.653640Z",
     "shell.execute_reply": "2022-07-11T08:57:32.652849Z"
    },
    "papermill": {
     "duration": 20.454496,
     "end_time": "2022-07-11T08:57:32.656280",
     "exception": false,
     "start_time": "2022-07-11T08:57:12.201784",
     "status": "completed"
    },
    "tags": []
   },
   "outputs": [
    {
     "name": "stdout",
     "output_type": "stream",
     "text": [
      "k\tK-means\t\t\trandom\n",
      "------------------------------------------------------------\n",
      "2\t866070488704.476196\t866070488704.476074\n",
      "3\t728215342983.054443\t728215342983.054443\n",
      "4\t638286863470.537109\t638081317466.990479\n",
      "5\t584280173232.295654\t587075766466.636475\n",
      "6\t538209055840.842773\t540943118751.786804\n",
      "7\t503381194087.148132\t508440098567.509338\n",
      "8\t480645408569.097290\t489492218342.491089\n",
      "9\t460322651562.982056\t465580784065.419128\n",
      "10\t447375543732.545288\t444831095366.731689\n"
     ]
    }
   ],
   "source": [
    "n_clusters = range(2,11)\n",
    "niter = 10 # Number of time the k-means algorithm will be run with different centroid seeds.\n",
    "wc_kmpp, wc_rnd = [], []\n",
    "\n",
    "print('k\\tK-means\\t\\t\\trandom')\n",
    "print(60 * '-')\n",
    "formatter_result = (\"{:d}\\t{:f}\\t{:f}\")\n",
    "\n",
    "for k in n_clusters:\n",
    "    \n",
    "    results = []\n",
    "    results.append(k)\n",
    "    \n",
    "    kmpp = KMeans(init=\"k-means++\", n_clusters=k, n_init=niter).fit(xtrain)\n",
    "    rnd = KMeans(init=\"random\", n_clusters=k, n_init=niter).fit(xtrain)\n",
    "\n",
    "    results.append(kmpp.inertia_)\n",
    "    results.append(rnd.inertia_)\n",
    "   \n",
    "    wc_kmpp.append(kmpp.inertia_)\n",
    "    wc_rnd.append(rnd.inertia_)\n",
    "\n",
    "    print(formatter_result.format(*results))    "
   ]
  },
  {
   "cell_type": "code",
   "execution_count": 9,
   "id": "cc517db4",
   "metadata": {
    "execution": {
     "iopub.execute_input": "2022-07-11T08:57:32.682296Z",
     "iopub.status.busy": "2022-07-11T08:57:32.681915Z",
     "iopub.status.idle": "2022-07-11T08:57:32.900488Z",
     "shell.execute_reply": "2022-07-11T08:57:32.899589Z"
    },
    "papermill": {
     "duration": 0.233159,
     "end_time": "2022-07-11T08:57:32.902586",
     "exception": false,
     "start_time": "2022-07-11T08:57:32.669427",
     "status": "completed"
    },
    "tags": []
   },
   "outputs": [
    {
     "data": {
      "image/png": "[encoded data removed]",
      "text/plain": [
       "<Figure size 576x288 with 1 Axes>"
      ]
     },
     "metadata": {
      "needs_background": "light"
     },
     "output_type": "display_data"
    }
   ],
   "source": [
    "# fig \n",
    "width, height = 8, 4\n",
    "fig, ax = plt.subplots(figsize=(width,height))\n",
    "\n",
    "ax.plot(n_clusters, wc_kmpp,  marker='*', color=\"darkblue\", label = \"k-means++\")\n",
    "ax.plot(n_clusters, wc_rnd,  marker='o', color=\"orange\", label = \"random\")\n",
    "\n",
    "ax.grid(color='grey', linestyle='-', linewidth=0.5);\n",
    "#ax.yaxis.set_major_formatter(FormatStrFormatter('%.f'))\n",
    "ax.legend()\n",
    "ax.set_xlabel(\"Number of Clusters K\", fontsize=12)\n",
    "ax.set_ylabel(\"within-cluster sum of squares\", fontsize=12)\n",
    "\n",
    "plt.suptitle(\"Comparison with different method of initialization\",fontsize=20)\n",
    "plt.subplots_adjust(top=0.825) # change title position\n",
    "\n",
    "plt.show()"
   ]
  },
  {
   "cell_type": "markdown",
   "id": "2880d3b9",
   "metadata": {
    "papermill": {
     "duration": 0.011588,
     "end_time": "2022-07-11T08:57:32.925753",
     "exception": false,
     "start_time": "2022-07-11T08:57:32.914165",
     "status": "completed"
    },
    "tags": []
   },
   "source": [
    "### **Comparison between different `n_iter`**:\n",
    "Number of time the k-means algorithm will be run with different centroid seeds."
   ]
  },
  {
   "cell_type": "code",
   "execution_count": 10,
   "id": "a41dbf60",
   "metadata": {
    "execution": {
     "iopub.execute_input": "2022-07-11T08:57:32.951106Z",
     "iopub.status.busy": "2022-07-11T08:57:32.950262Z",
     "iopub.status.idle": "2022-07-11T08:58:08.333670Z",
     "shell.execute_reply": "2022-07-11T08:58:08.332444Z"
    },
    "papermill": {
     "duration": 35.400124,
     "end_time": "2022-07-11T08:58:08.337597",
     "exception": false,
     "start_time": "2022-07-11T08:57:32.937473",
     "status": "completed"
    },
    "tags": []
   },
   "outputs": [
    {
     "name": "stdout",
     "output_type": "stream",
     "text": [
      "k\tn_iter=10\t\tn_iter=20\n",
      "----------------------------------------------------------------------\n",
      "2\t866070488704.476074\t865755593329.079102\n",
      "3\t728028390816.590210\t727972625271.491211\n",
      "4\t639723868185.660278\t638286863470.537109\n",
      "5\t579977474766.300903\t580224574540.047607\n",
      "6\t543140308602.200195\t537625894944.809998\n",
      "7\t499824352123.143555\t499900728332.191284\n",
      "8\t481177796841.305420\t478729684111.517700\n",
      "9\t463786737203.969238\t455823165084.713989\n",
      "10\t447920765947.759399\t440614709199.603394\n"
     ]
    }
   ],
   "source": [
    "n_clusters = range(2,11)\n",
    "wc_ten_seeds, wc_twenty_seeds = [], []\n",
    "\n",
    "print('k\\tn_iter=10\\t\\tn_iter=20')\n",
    "print(70 * '-')\n",
    "formatter_result = (\"{:d}\\t{:f}\\t{:f}\")\n",
    "\n",
    "for k in n_clusters:\n",
    "    \n",
    "    results = []\n",
    "    results.append(k)\n",
    "    \n",
    "    ten_seeds = KMeans(init=\"k-means++\", n_clusters=k, n_init=10).fit(xtrain)\n",
    "    twenty_seeds = KMeans(init=\"k-means++\", n_clusters=k, n_init=20).fit(xtrain)\n",
    "\n",
    "    results.append(ten_seeds.inertia_)\n",
    "    results.append(twenty_seeds.inertia_)\n",
    "   \n",
    "    wc_ten_seeds.append(ten_seeds.inertia_)\n",
    "    wc_twenty_seeds.append(twenty_seeds.inertia_)\n",
    "\n",
    "    print(formatter_result.format(*results))    "
   ]
  },
  {
   "cell_type": "code",
   "execution_count": 11,
   "id": "bcdc1d2e",
   "metadata": {
    "execution": {
     "iopub.execute_input": "2022-07-11T08:58:08.403688Z",
     "iopub.status.busy": "2022-07-11T08:58:08.402986Z",
     "iopub.status.idle": "2022-07-11T08:58:08.621387Z",
     "shell.execute_reply": "2022-07-11T08:58:08.620392Z"
    },
    "papermill": {
     "duration": 0.252585,
     "end_time": "2022-07-11T08:58:08.623393",
     "exception": false,
     "start_time": "2022-07-11T08:58:08.370808",
     "status": "completed"
    },
    "tags": []
   },
   "outputs": [
    {
     "data": {
      "image/png": "[encoded data removed]",
      "text/plain": [
       "<Figure size 576x288 with 1 Axes>"
      ]
     },
     "metadata": {
      "needs_background": "light"
     },
     "output_type": "display_data"
    }
   ],
   "source": [
    "# fig \n",
    "width, height = 8, 4\n",
    "fig, ax = plt.subplots(figsize=(width,height))\n",
    "\n",
    "ax.plot(n_clusters, wc_ten_seeds,  marker='*', color=\"darkblue\", label = \"n_iter=10\")\n",
    "ax.plot(n_clusters, wc_twenty_seeds,  marker='o', color=\"orange\", label = \"n_iter=20\")\n",
    "\n",
    "ax.grid(color='grey', linestyle='-', linewidth=0.5);\n",
    "#ax.yaxis.set_major_formatter(FormatStrFormatter('%.f'))\n",
    "ax.legend()\n",
    "ax.set_xlabel(\"Number of Clusters K\", fontsize=12)\n",
    "ax.set_ylabel(\"within-cluster sum of squares\", fontsize=12)\n",
    "\n",
    "plt.suptitle(\"Comparison between different n_iter\",fontsize=20)\n",
    "plt.subplots_adjust(top=0.825) # change title position\n",
    "\n",
    "plt.show()"
   ]
  },
  {
   "cell_type": "markdown",
   "id": "fed3fe5b",
   "metadata": {
    "papermill": {
     "duration": 0.012762,
     "end_time": "2022-07-11T08:58:08.649237",
     "exception": false,
     "start_time": "2022-07-11T08:58:08.636475",
     "status": "completed"
    },
    "tags": []
   },
   "source": [
    "### **Mini-batch K-means**\n",
    "The **MiniBatchKMeans** is a variant of the KMeans algorithm which uses mini-batches to reduce the computation time, while still attempting to optimise the same objective function.\n",
    "\n",
    "Mini-batches are subsets of the input data, randomly sampled in each training iteration. These mini-batches drastically reduce the amount of computation required to converge to a local solution.\n",
    "\n",
    "In contrast to other algorithms that reduce the convergence time of k-means, mini-batch k-means produces results that are generally only slightly worse than the standard algorithm."
   ]
  },
  {
   "cell_type": "code",
   "execution_count": 12,
   "id": "cac712e5",
   "metadata": {
    "execution": {
     "iopub.execute_input": "2022-07-11T08:58:08.676951Z",
     "iopub.status.busy": "2022-07-11T08:58:08.676527Z",
     "iopub.status.idle": "2022-07-11T08:58:17.784881Z",
     "shell.execute_reply": "2022-07-11T08:58:17.783845Z"
    },
    "papermill": {
     "duration": 9.124847,
     "end_time": "2022-07-11T08:58:17.787194",
     "exception": false,
     "start_time": "2022-07-11T08:58:08.662347",
     "status": "completed"
    },
    "tags": []
   },
   "outputs": [
    {
     "name": "stdout",
     "output_type": "stream",
     "text": [
      "k\tInertia\t\t\tdecrease %\n",
      "--------------------------------------------------\n",
      "2\t866606413247.558105\t0.000000\n",
      "3\t734446802772.409912\t-17.994443\n",
      "4\t652299546168.573364\t-12.593487\n",
      "5\t600304755050.523315\t-8.661399\n",
      "6\t550736134934.529541\t-9.000430\n",
      "7\t508236055605.001465\t-8.362272\n",
      "8\t503937252748.384766\t-0.853043\n",
      "9\t477708584067.349365\t-5.490517\n",
      "10\t465972683467.220947\t-2.518581\n"
     ]
    }
   ],
   "source": [
    "# K-means with k from 2 to 10\n",
    "\n",
    "n_clusters = range(2,11)\n",
    "alg = 'k-means++' # Method for initialization\n",
    "niter = 10 # Number of time the k-means algorithm will be run with different centroid seeds.\n",
    "wc_mbkm_sos=[]\n",
    "\n",
    "print('k\\tInertia\\t\\t\\tdecrease %')\n",
    "print(50 * '-')\n",
    "formatter_result = (\"{:d}\\t{:f}\\t{:f}\")\n",
    "\n",
    "for k in n_clusters:\n",
    "    \n",
    "    results = []\n",
    "    results.append(k)\n",
    "    \n",
    "    mbkm = MiniBatchKMeans(init=alg, n_clusters=k, n_init=niter).fit(xtrain)\n",
    "    \n",
    "    # inertia = Sum of squared distances of samples to their closest cluster center  \n",
    "    wcv = mbkm.inertia_\n",
    "    wc_mbkm_sos.append(wcv)\n",
    "    results.append(wcv)\n",
    "    \n",
    "    # variations in %\n",
    "    if len(wc_mbkm_sos)>1:\n",
    "        results.append(\n",
    "            (wc_mbkm_sos[k-2] - wc_mbkm_sos[k-3])*100/wc_mbkm_sos[k-2]\n",
    "        )\n",
    "    else:\n",
    "        results.append(0)\n",
    "        \n",
    "    print(formatter_result.format(*results))    "
   ]
  },
  {
   "cell_type": "code",
   "execution_count": 13,
   "id": "738f3d32",
   "metadata": {
    "execution": {
     "iopub.execute_input": "2022-07-11T08:58:17.819434Z",
     "iopub.status.busy": "2022-07-11T08:58:17.818988Z",
     "iopub.status.idle": "2022-07-11T08:58:17.996380Z",
     "shell.execute_reply": "2022-07-11T08:58:17.995492Z"
    },
    "papermill": {
     "duration": 0.195245,
     "end_time": "2022-07-11T08:58:17.998350",
     "exception": false,
     "start_time": "2022-07-11T08:58:17.803105",
     "status": "completed"
    },
    "tags": []
   },
   "outputs": [
    {
     "data": {
      "image/png": "[encoded data removed]",
      "text/plain": [
       "<Figure size 576x288 with 1 Axes>"
      ]
     },
     "metadata": {
      "needs_background": "light"
     },
     "output_type": "display_data"
    }
   ],
   "source": [
    "# fig \n",
    "width, height = 8, 4\n",
    "fig, ax = plt.subplots(figsize=(width,height))\n",
    "\n",
    "ax.plot(n_clusters, wc_mbkm_sos,  marker='o', color=\"darkblue\", label = \"k-means\")\n",
    "ax.plot(n_clusters, wc_km_sos,  marker='o', color=\"orange\",  label = \"Mini batch k-means\")\n",
    "ax.grid(color='grey', linestyle='-', linewidth=0.5);\n",
    "#ax.yaxis.set_major_formatter(FormatStrFormatter('%.f'))\n",
    "\n",
    "ax.legend()\n",
    "ax.set_xlabel(\"Number of Clusters K\", fontsize=12)\n",
    "ax.set_ylabel(\"within-cluster sum of squares\", fontsize=12)\n",
    "\n",
    "plt.suptitle(\"Total within-cluster sum of squares\\ncomparison\",fontsize=20)\n",
    "plt.subplots_adjust(top=0.825) # change title position\n",
    "\n",
    "plt.show()"
   ]
  },
  {
   "cell_type": "markdown",
   "id": "2494c20f",
   "metadata": {
    "papermill": {
     "duration": 0.01398,
     "end_time": "2022-07-11T08:58:18.026700",
     "exception": false,
     "start_time": "2022-07-11T08:58:18.012720",
     "status": "completed"
    },
    "tags": []
   },
   "source": [
    "## **Analysis for K=3**"
   ]
  },
  {
   "cell_type": "markdown",
   "id": "a575c788",
   "metadata": {
    "papermill": {
     "duration": 0.013929,
     "end_time": "2022-07-11T08:58:18.054448",
     "exception": false,
     "start_time": "2022-07-11T08:58:18.040519",
     "status": "completed"
    },
    "tags": []
   },
   "source": [
    "### **Number of cancer cases of each type in each of the 3 clusters**"
   ]
  },
  {
   "cell_type": "code",
   "execution_count": 14,
   "id": "efad6a9b",
   "metadata": {
    "execution": {
     "iopub.execute_input": "2022-07-11T08:58:18.084871Z",
     "iopub.status.busy": "2022-07-11T08:58:18.084426Z",
     "iopub.status.idle": "2022-07-11T08:58:19.429379Z",
     "shell.execute_reply": "2022-07-11T08:58:19.428469Z"
    },
    "papermill": {
     "duration": 1.362955,
     "end_time": "2022-07-11T08:58:19.431983",
     "exception": false,
     "start_time": "2022-07-11T08:58:18.069028",
     "status": "completed"
    },
    "tags": []
   },
   "outputs": [],
   "source": [
    "rows = KMeans(init=\"k-means++\", n_clusters=3).fit(xtrain).labels_  # labels of each sample after clustering\n",
    "columns = ytrain.to_numpy().flatten()                              # make the df into an iterable list\n",
    "\n",
    "# Collect info in a table\n",
    "tab = np.zeros(3*n_labels).reshape(3,n_labels) # rows: clusters, columns: cancer labels\n",
    "\n",
    "# Update table\n",
    "for i in range(n_samples):\n",
    "    tab[rows[i],columns[i]-1]+=1 # column-1 because we range over 14 clusters (0,13)\n",
    "    \n",
    "# Better formatting of the table into a DataFrame\n",
    "table = pd.DataFrame(tab.astype(int))\n",
    "table.columns = [\"breast\", \"prostate\", \"lung\", \"collerectal\", \"lymphoma\", \"bladder\",\n",
    "                 \"melanoma\", \"uterus\", \"leukemia\", \"renal\", \"pancreas\", \"ovary\", \"meso\", \"cns\"]"
   ]
  },
  {
   "cell_type": "code",
   "execution_count": 15,
   "id": "7078c578",
   "metadata": {
    "execution": {
     "iopub.execute_input": "2022-07-11T08:58:19.464595Z",
     "iopub.status.busy": "2022-07-11T08:58:19.464218Z",
     "iopub.status.idle": "2022-07-11T08:58:19.477402Z",
     "shell.execute_reply": "2022-07-11T08:58:19.476461Z"
    },
    "papermill": {
     "duration": 0.031291,
     "end_time": "2022-07-11T08:58:19.480099",
     "exception": false,
     "start_time": "2022-07-11T08:58:19.448808",
     "status": "completed"
    },
    "tags": []
   },
   "outputs": [
    {
     "data": {
      "text/html": [
       "<div>\n",
       "<style scoped>\n",
       "    .dataframe tbody tr th:only-of-type {\n",
       "        vertical-align: middle;\n",
       "    }\n",
       "\n",
       "    .dataframe tbody tr th {\n",
       "        vertical-align: top;\n",
       "    }\n",
       "\n",
       "    .dataframe thead th {\n",
       "        text-align: right;\n",
       "    }\n",
       "</style>\n",
       "<table border=\"1\" class=\"dataframe\">\n",
       "  <thead>\n",
       "    <tr style=\"text-align: right;\">\n",
       "      <th></th>\n",
       "      <th>breast</th>\n",
       "      <th>prostate</th>\n",
       "      <th>lung</th>\n",
       "      <th>collerectal</th>\n",
       "      <th>lymphoma</th>\n",
       "      <th>bladder</th>\n",
       "      <th>melanoma</th>\n",
       "      <th>uterus</th>\n",
       "      <th>leukemia</th>\n",
       "      <th>renal</th>\n",
       "      <th>pancreas</th>\n",
       "      <th>ovary</th>\n",
       "      <th>meso</th>\n",
       "      <th>cns</th>\n",
       "    </tr>\n",
       "  </thead>\n",
       "  <tbody>\n",
       "    <tr>\n",
       "      <th>0</th>\n",
       "      <td>8</td>\n",
       "      <td>3</td>\n",
       "      <td>6</td>\n",
       "      <td>5</td>\n",
       "      <td>1</td>\n",
       "      <td>7</td>\n",
       "      <td>5</td>\n",
       "      <td>3</td>\n",
       "      <td>0</td>\n",
       "      <td>5</td>\n",
       "      <td>6</td>\n",
       "      <td>4</td>\n",
       "      <td>4</td>\n",
       "      <td>2</td>\n",
       "    </tr>\n",
       "    <tr>\n",
       "      <th>1</th>\n",
       "      <td>0</td>\n",
       "      <td>2</td>\n",
       "      <td>0</td>\n",
       "      <td>0</td>\n",
       "      <td>2</td>\n",
       "      <td>0</td>\n",
       "      <td>0</td>\n",
       "      <td>2</td>\n",
       "      <td>21</td>\n",
       "      <td>1</td>\n",
       "      <td>0</td>\n",
       "      <td>2</td>\n",
       "      <td>0</td>\n",
       "      <td>0</td>\n",
       "    </tr>\n",
       "    <tr>\n",
       "      <th>2</th>\n",
       "      <td>0</td>\n",
       "      <td>3</td>\n",
       "      <td>2</td>\n",
       "      <td>3</td>\n",
       "      <td>13</td>\n",
       "      <td>1</td>\n",
       "      <td>3</td>\n",
       "      <td>3</td>\n",
       "      <td>3</td>\n",
       "      <td>2</td>\n",
       "      <td>2</td>\n",
       "      <td>2</td>\n",
       "      <td>4</td>\n",
       "      <td>14</td>\n",
       "    </tr>\n",
       "  </tbody>\n",
       "</table>\n",
       "</div>"
      ],
      "text/plain": [
       "   breast  prostate  lung  collerectal  lymphoma  bladder  melanoma  uterus  \\\n",
       "0       8         3     6            5         1        7         5       3   \n",
       "1       0         2     0            0         2        0         0       2   \n",
       "2       0         3     2            3        13        1         3       3   \n",
       "\n",
       "   leukemia  renal  pancreas  ovary  meso  cns  \n",
       "0         0      5         6      4     4    2  \n",
       "1        21      1         0      2     0    0  \n",
       "2         3      2         2      2     4   14  "
      ]
     },
     "execution_count": 15,
     "metadata": {},
     "output_type": "execute_result"
    }
   ],
   "source": [
    "table"
   ]
  }
 ],
 "metadata": {
  "kernelspec": {
   "display_name": "Python 3",
   "language": "python",
   "name": "python3"
  },
  "language_info": {
   "codemirror_mode": {
    "name": "ipython",
    "version": 3
   },
   "file_extension": ".py",
   "mimetype": "text/x-python",
   "name": "python",
   "nbconvert_exporter": "python",
   "pygments_lexer": "ipython3",
   "version": "3.7.12"
  },
  "papermill": {
   "default_parameters": {},
   "duration": 93.87535,
   "end_time": "2022-07-11T08:58:20.315337",
   "environment_variables": {},
   "exception": null,
   "input_path": "__notebook__.ipynb",
   "output_path": "__notebook__.ipynb",
   "parameters": {},
   "start_time": "2022-07-11T08:56:46.439987",
   "version": "2.3.4"
  }
 },
 "nbformat": 4,
 "nbformat_minor": 5
}
